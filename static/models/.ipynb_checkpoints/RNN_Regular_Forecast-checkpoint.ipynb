{
 "cells": [
  {
   "cell_type": "code",
   "execution_count": 1,
   "id": "ea35c449",
   "metadata": {},
   "outputs": [],
   "source": [
    "import pandas as pd\n",
    "import numpy as np\n",
    "import matplotlib.pyplot as plt"
   ]
  },
  {
   "cell_type": "code",
   "execution_count": 2,
   "id": "bedf879d",
   "metadata": {},
   "outputs": [],
   "source": [
    "df = pd.read_csv('../datasets/reduced_regular_milled_rice.csv')\n",
    "df.MONTH = df.MONTH.astype(int)\n",
    "df[\"DATE\"] = pd.to_datetime(df.YEAR.astype(str) + '/' + df.MONTH.astype(str) + '/01')\n",
    "df = df.set_index('DATE').asfreq('MS')"
   ]
  },
  {
   "cell_type": "code",
   "execution_count": 3,
   "id": "931a40b9",
   "metadata": {},
   "outputs": [],
   "source": [
    "# Select columns for price prediction and inflation rate\n",
    "df = df[['Price / kg', 'Inflation Rate (%)']]"
   ]
  },
  {
   "cell_type": "code",
   "execution_count": 4,
   "id": "8eae33f9",
   "metadata": {},
   "outputs": [
    {
     "data": {
      "text/html": [
       "<div>\n",
       "<style scoped>\n",
       "    .dataframe tbody tr th:only-of-type {\n",
       "        vertical-align: middle;\n",
       "    }\n",
       "\n",
       "    .dataframe tbody tr th {\n",
       "        vertical-align: top;\n",
       "    }\n",
       "\n",
       "    .dataframe thead th {\n",
       "        text-align: right;\n",
       "    }\n",
       "</style>\n",
       "<table border=\"1\" class=\"dataframe\">\n",
       "  <thead>\n",
       "    <tr style=\"text-align: right;\">\n",
       "      <th></th>\n",
       "      <th>Price / kg</th>\n",
       "      <th>Inflation Rate (%)</th>\n",
       "    </tr>\n",
       "    <tr>\n",
       "      <th>DATE</th>\n",
       "      <th></th>\n",
       "      <th></th>\n",
       "    </tr>\n",
       "  </thead>\n",
       "  <tbody>\n",
       "    <tr>\n",
       "      <th>1990-01-01</th>\n",
       "      <td>8.60</td>\n",
       "      <td>5.071392</td>\n",
       "    </tr>\n",
       "    <tr>\n",
       "      <th>1990-02-01</th>\n",
       "      <td>9.00</td>\n",
       "      <td>5.071392</td>\n",
       "    </tr>\n",
       "    <tr>\n",
       "      <th>1990-03-01</th>\n",
       "      <td>8.50</td>\n",
       "      <td>5.071392</td>\n",
       "    </tr>\n",
       "    <tr>\n",
       "      <th>1990-04-01</th>\n",
       "      <td>8.95</td>\n",
       "      <td>5.071392</td>\n",
       "    </tr>\n",
       "    <tr>\n",
       "      <th>1990-05-01</th>\n",
       "      <td>9.70</td>\n",
       "      <td>5.071392</td>\n",
       "    </tr>\n",
       "    <tr>\n",
       "      <th>...</th>\n",
       "      <td>...</td>\n",
       "      <td>...</td>\n",
       "    </tr>\n",
       "    <tr>\n",
       "      <th>2020-08-01</th>\n",
       "      <td>43.85</td>\n",
       "      <td>2.200000</td>\n",
       "    </tr>\n",
       "    <tr>\n",
       "      <th>2020-09-01</th>\n",
       "      <td>42.36</td>\n",
       "      <td>2.200000</td>\n",
       "    </tr>\n",
       "    <tr>\n",
       "      <th>2020-10-01</th>\n",
       "      <td>40.74</td>\n",
       "      <td>2.300000</td>\n",
       "    </tr>\n",
       "    <tr>\n",
       "      <th>2020-11-01</th>\n",
       "      <td>36.69</td>\n",
       "      <td>3.000000</td>\n",
       "    </tr>\n",
       "    <tr>\n",
       "      <th>2020-12-01</th>\n",
       "      <td>37.91</td>\n",
       "      <td>3.300000</td>\n",
       "    </tr>\n",
       "  </tbody>\n",
       "</table>\n",
       "<p>372 rows × 2 columns</p>\n",
       "</div>"
      ],
      "text/plain": [
       "            Price / kg  Inflation Rate (%)\n",
       "DATE                                      \n",
       "1990-01-01        8.60            5.071392\n",
       "1990-02-01        9.00            5.071392\n",
       "1990-03-01        8.50            5.071392\n",
       "1990-04-01        8.95            5.071392\n",
       "1990-05-01        9.70            5.071392\n",
       "...                ...                 ...\n",
       "2020-08-01       43.85            2.200000\n",
       "2020-09-01       42.36            2.200000\n",
       "2020-10-01       40.74            2.300000\n",
       "2020-11-01       36.69            3.000000\n",
       "2020-12-01       37.91            3.300000\n",
       "\n",
       "[372 rows x 2 columns]"
      ]
     },
     "execution_count": 4,
     "metadata": {},
     "output_type": "execute_result"
    }
   ],
   "source": [
    "df"
   ]
  },
  {
   "cell_type": "code",
   "execution_count": 5,
   "id": "4ce661b5",
   "metadata": {},
   "outputs": [
    {
     "data": {
      "text/plain": [
       "(372, 2)"
      ]
     },
     "execution_count": 5,
     "metadata": {},
     "output_type": "execute_result"
    }
   ],
   "source": [
    "df.shape"
   ]
  },
  {
   "cell_type": "code",
   "execution_count": 6,
   "id": "78fc3ddc",
   "metadata": {},
   "outputs": [
    {
     "data": {
      "text/plain": [
       "<Axes: xlabel='DATE'>"
      ]
     },
     "execution_count": 6,
     "metadata": {},
     "output_type": "execute_result"
    },
    {
     "data": {
      "image/png": "[encoded data removed]",
      "text/plain": [
       "<Figure size 1200x600 with 1 Axes>"
      ]
     },
     "metadata": {},
     "output_type": "display_data"
    }
   ],
   "source": [
    "df.plot(figsize=(12,6))"
   ]
  },
  {
   "cell_type": "code",
   "execution_count": 7,
   "id": "d3af048f",
   "metadata": {},
   "outputs": [],
   "source": [
    "from statsmodels.tsa.seasonal import seasonal_decompose"
   ]
  },
  {
   "cell_type": "code",
   "execution_count": 8,
   "id": "5ab76e72",
   "metadata": {},
   "outputs": [
    {
     "data": {
      "image/png": "[encoded data removed]",
      "text/plain": [
       "<Figure size 640x480 with 4 Axes>"
      ]
     },
     "execution_count": 8,
     "metadata": {},
     "output_type": "execute_result"
    },
    {
     "data": {
      "image/png": "[encoded data removed]",
      "text/plain": [
       "<Figure size 640x480 with 4 Axes>"
      ]
     },
     "metadata": {},
     "output_type": "display_data"
    }
   ],
   "source": [
    "# Perform seasonal decomposition\n",
    "results = seasonal_decompose(df['Price / kg'])\n",
    "results.plot()"
   ]
  },
  {
   "cell_type": "code",
   "execution_count": 9,
   "id": "a46d3dae",
   "metadata": {},
   "outputs": [
    {
     "data": {
      "text/plain": [
       "372"
      ]
     },
     "execution_count": 9,
     "metadata": {},
     "output_type": "execute_result"
    }
   ],
   "source": [
    "len(df)"
   ]
  },
  {
   "cell_type": "code",
   "execution_count": 10,
   "id": "97d11370",
   "metadata": {},
   "outputs": [],
   "source": [
    "train = df.iloc[:-12]\n",
    "test = df.iloc[-12:]"
   ]
  },
  {
   "cell_type": "code",
   "execution_count": 11,
   "id": "11018be2",
   "metadata": {},
   "outputs": [
    {
     "name": "stdout",
     "output_type": "stream",
     "text": [
      "Train Shape: (360, 2) and Test Shape: (12, 2)\n"
     ]
    }
   ],
   "source": [
    "print(f\"Train Shape: {train.shape} and Test Shape: {test.shape}\")"
   ]
  },
  {
   "cell_type": "code",
   "execution_count": 12,
   "id": "15362e7f",
   "metadata": {},
   "outputs": [
    {
     "data": {
      "text/html": [
       "<div>\n",
       "<style scoped>\n",
       "    .dataframe tbody tr th:only-of-type {\n",
       "        vertical-align: middle;\n",
       "    }\n",
       "\n",
       "    .dataframe tbody tr th {\n",
       "        vertical-align: top;\n",
       "    }\n",
       "\n",
       "    .dataframe thead th {\n",
       "        text-align: right;\n",
       "    }\n",
       "</style>\n",
       "<table border=\"1\" class=\"dataframe\">\n",
       "  <thead>\n",
       "    <tr style=\"text-align: right;\">\n",
       "      <th></th>\n",
       "      <th>Price / kg</th>\n",
       "      <th>Inflation Rate (%)</th>\n",
       "    </tr>\n",
       "    <tr>\n",
       "      <th>DATE</th>\n",
       "      <th></th>\n",
       "      <th></th>\n",
       "    </tr>\n",
       "  </thead>\n",
       "  <tbody>\n",
       "    <tr>\n",
       "      <th>2020-01-01</th>\n",
       "      <td>43.44</td>\n",
       "      <td>3.0</td>\n",
       "    </tr>\n",
       "    <tr>\n",
       "      <th>2020-02-01</th>\n",
       "      <td>43.04</td>\n",
       "      <td>2.5</td>\n",
       "    </tr>\n",
       "    <tr>\n",
       "      <th>2020-03-01</th>\n",
       "      <td>43.04</td>\n",
       "      <td>2.2</td>\n",
       "    </tr>\n",
       "    <tr>\n",
       "      <th>2020-04-01</th>\n",
       "      <td>43.31</td>\n",
       "      <td>1.8</td>\n",
       "    </tr>\n",
       "    <tr>\n",
       "      <th>2020-05-01</th>\n",
       "      <td>44.12</td>\n",
       "      <td>1.6</td>\n",
       "    </tr>\n",
       "    <tr>\n",
       "      <th>2020-06-01</th>\n",
       "      <td>44.12</td>\n",
       "      <td>2.3</td>\n",
       "    </tr>\n",
       "    <tr>\n",
       "      <th>2020-07-01</th>\n",
       "      <td>44.79</td>\n",
       "      <td>2.4</td>\n",
       "    </tr>\n",
       "    <tr>\n",
       "      <th>2020-08-01</th>\n",
       "      <td>43.85</td>\n",
       "      <td>2.2</td>\n",
       "    </tr>\n",
       "    <tr>\n",
       "      <th>2020-09-01</th>\n",
       "      <td>42.36</td>\n",
       "      <td>2.2</td>\n",
       "    </tr>\n",
       "    <tr>\n",
       "      <th>2020-10-01</th>\n",
       "      <td>40.74</td>\n",
       "      <td>2.3</td>\n",
       "    </tr>\n",
       "    <tr>\n",
       "      <th>2020-11-01</th>\n",
       "      <td>36.69</td>\n",
       "      <td>3.0</td>\n",
       "    </tr>\n",
       "    <tr>\n",
       "      <th>2020-12-01</th>\n",
       "      <td>37.91</td>\n",
       "      <td>3.3</td>\n",
       "    </tr>\n",
       "  </tbody>\n",
       "</table>\n",
       "</div>"
      ],
      "text/plain": [
       "            Price / kg  Inflation Rate (%)\n",
       "DATE                                      \n",
       "2020-01-01       43.44                 3.0\n",
       "2020-02-01       43.04                 2.5\n",
       "2020-03-01       43.04                 2.2\n",
       "2020-04-01       43.31                 1.8\n",
       "2020-05-01       44.12                 1.6\n",
       "2020-06-01       44.12                 2.3\n",
       "2020-07-01       44.79                 2.4\n",
       "2020-08-01       43.85                 2.2\n",
       "2020-09-01       42.36                 2.2\n",
       "2020-10-01       40.74                 2.3\n",
       "2020-11-01       36.69                 3.0\n",
       "2020-12-01       37.91                 3.3"
      ]
     },
     "execution_count": 12,
     "metadata": {},
     "output_type": "execute_result"
    }
   ],
   "source": [
    "test"
   ]
  },
  {
   "cell_type": "code",
   "execution_count": 13,
   "id": "c12335c7",
   "metadata": {},
   "outputs": [],
   "source": [
    "from sklearn.preprocessing import MinMaxScaler\n",
    "scaler = MinMaxScaler()"
   ]
  },
  {
   "cell_type": "code",
   "execution_count": 14,
   "id": "5c4c2e64",
   "metadata": {},
   "outputs": [
    {
     "data": {
      "text/plain": [
       "(            Price / kg  Inflation Rate (%)\n",
       " DATE                                      \n",
       " 1990-01-01        8.60            5.071392\n",
       " 1990-02-01        9.00            5.071392\n",
       " 1990-03-01        8.50            5.071392\n",
       " 1990-04-01        8.95            5.071392\n",
       " 1990-05-01        9.70            5.071392,\n",
       "             Price / kg  Inflation Rate (%)\n",
       " DATE                                      \n",
       " 2020-08-01       43.85                 2.2\n",
       " 2020-09-01       42.36                 2.2\n",
       " 2020-10-01       40.74                 2.3\n",
       " 2020-11-01       36.69                 3.0\n",
       " 2020-12-01       37.91                 3.3)"
      ]
     },
     "execution_count": 14,
     "metadata": {},
     "output_type": "execute_result"
    }
   ],
   "source": [
    "df.head(),df.tail()"
   ]
  },
  {
   "cell_type": "code",
   "execution_count": 15,
   "id": "d16244de",
   "metadata": {},
   "outputs": [],
   "source": [
    "scaler = MinMaxScaler()\n",
    "scaler.fit(train)\n",
    "scaled_train = scaler.transform(train)\n",
    "scaled_test = scaler.transform(test)"
   ]
  },
  {
   "cell_type": "code",
   "execution_count": 16,
   "id": "e9aa4422",
   "metadata": {},
   "outputs": [
    {
     "data": {
      "text/plain": [
       "(360, 2)"
      ]
     },
     "execution_count": 16,
     "metadata": {},
     "output_type": "execute_result"
    }
   ],
   "source": [
    "scaled_train.shape"
   ]
  },
  {
   "cell_type": "code",
   "execution_count": 17,
   "id": "3bc19125",
   "metadata": {},
   "outputs": [],
   "source": [
    "original_value = scaler.inverse_transform(scaled_train)"
   ]
  },
  {
   "cell_type": "code",
   "execution_count": 18,
   "id": "2fe36db4",
   "metadata": {},
   "outputs": [
    {
     "data": {
      "text/plain": [
       "array([[ 8.6       ,  5.07139175],\n",
       "       [ 9.        ,  5.07139175],\n",
       "       [ 8.5       ,  5.07139175],\n",
       "       [ 8.95      ,  5.07139175],\n",
       "       [ 9.7       ,  5.07139175],\n",
       "       [ 9.7       ,  5.07139175],\n",
       "       [ 9.15      ,  5.07139175],\n",
       "       [ 9.15      ,  5.07139175],\n",
       "       [ 8.95      ,  5.07139175],\n",
       "       [ 8.75      ,  5.07139175],\n",
       "       [ 9.6       ,  5.07139175],\n",
       "       [ 9.3       ,  5.07139175],\n",
       "       [ 9.35      ,  5.07139175],\n",
       "       [ 9.4       ,  5.07139175],\n",
       "       [ 9.3       ,  5.07139175],\n",
       "       [ 9.3       ,  5.07139175],\n",
       "       [ 9.6       ,  5.07139175],\n",
       "       [ 9.6       ,  5.07139175],\n",
       "       [ 9.7       ,  5.07139175],\n",
       "       [ 9.9       ,  5.07139175],\n",
       "       [ 9.5       ,  5.07139175],\n",
       "       [ 9.4       ,  5.07139175],\n",
       "       [ 9.2       ,  5.07139175],\n",
       "       [ 9.2       ,  5.07139175],\n",
       "       [ 9.4       ,  8.6       ],\n",
       "       [ 9.3       ,  8.6       ],\n",
       "       [ 9.4       ,  8.6       ],\n",
       "       [ 9.65      ,  8.6       ],\n",
       "       [10.45      ,  8.6       ],\n",
       "       [10.4       ,  8.6       ],\n",
       "       [11.5       ,  8.6       ],\n",
       "       [12.        ,  8.6       ],\n",
       "       [11.3       ,  8.6       ],\n",
       "       [10.        ,  8.6       ],\n",
       "       [10.4       ,  8.6       ],\n",
       "       [10.        ,  8.6       ],\n",
       "       [10.4       ,  6.8       ],\n",
       "       [10.4       ,  6.8       ],\n",
       "       [10.4       ,  6.8       ],\n",
       "       [10.4       ,  6.8       ],\n",
       "       [10.8       ,  6.8       ],\n",
       "       [10.8       ,  6.8       ],\n",
       "       [11.4       ,  6.8       ],\n",
       "       [12.5       ,  6.8       ],\n",
       "       [12.4       ,  6.8       ],\n",
       "       [11.5       ,  6.8       ],\n",
       "       [11.5       ,  6.8       ],\n",
       "       [11.        ,  6.8       ],\n",
       "       [11.5       , 12.5       ],\n",
       "       [11.6       , 12.5       ],\n",
       "       [11.5       , 12.5       ],\n",
       "       [12.4       , 12.5       ],\n",
       "       [12.5       , 12.5       ],\n",
       "       [12.5       , 12.5       ],\n",
       "       [12.8       , 12.5       ],\n",
       "       [13.4       , 12.5       ],\n",
       "       [13.4       , 12.5       ],\n",
       "       [12.8       , 12.5       ],\n",
       "       [12.8       , 12.5       ],\n",
       "       [12.8       , 12.5       ],\n",
       "       [12.8       ,  6.9       ],\n",
       "       [12.65      ,  6.9       ],\n",
       "       [12.8       ,  6.9       ],\n",
       "       [13.55      ,  6.9       ],\n",
       "       [14.5       ,  6.9       ],\n",
       "       [15.45      ,  6.9       ],\n",
       "       [15.5       ,  6.9       ],\n",
       "       [18.        ,  6.9       ],\n",
       "       [17.5       ,  6.9       ],\n",
       "       [17.25      ,  6.9       ],\n",
       "       [16.35      ,  6.9       ],\n",
       "       [15.9       ,  6.9       ],\n",
       "       [16.6       ,  8.3       ],\n",
       "       [17.5       ,  8.3       ],\n",
       "       [17.1       ,  8.3       ],\n",
       "       [17.        ,  8.3       ],\n",
       "       [17.        ,  8.3       ],\n",
       "       [17.8       ,  8.3       ],\n",
       "       [18.        ,  8.3       ],\n",
       "       [18.        ,  8.3       ],\n",
       "       [17.25      ,  8.3       ],\n",
       "       [16.5       ,  8.3       ],\n",
       "       [16.        ,  8.3       ],\n",
       "       [16.        ,  8.3       ],\n",
       "       [16.1       ,  5.7       ],\n",
       "       [16.1       ,  5.7       ],\n",
       "       [16.5       ,  5.7       ],\n",
       "       [16.        ,  5.7       ],\n",
       "       [16.1       ,  5.7       ],\n",
       "       [16.1       ,  5.7       ],\n",
       "       [16.5       ,  5.7       ],\n",
       "       [17.        ,  5.7       ],\n",
       "       [17.1       ,  5.7       ],\n",
       "       [17.5       ,  5.7       ],\n",
       "       [16.4       ,  5.7       ],\n",
       "       [16.        ,  5.7       ],\n",
       "       [16.2       ,  9.4       ],\n",
       "       [16.5       ,  9.4       ],\n",
       "       [16.5       ,  9.4       ],\n",
       "       [16.5       ,  9.4       ],\n",
       "       [16.5       ,  9.4       ],\n",
       "       [17.        ,  9.4       ],\n",
       "       [17.        ,  9.4       ],\n",
       "       [17.        ,  9.4       ],\n",
       "       [17.4       ,  9.4       ],\n",
       "       [16.8       ,  9.4       ],\n",
       "       [16.5       ,  9.4       ],\n",
       "       [16.35      ,  9.4       ],\n",
       "       [16.9       ,  6.1       ],\n",
       "       [17.1       ,  6.1       ],\n",
       "       [17.        ,  6.1       ],\n",
       "       [17.        ,  6.1       ],\n",
       "       [17.        ,  6.1       ],\n",
       "       [17.25      ,  6.1       ],\n",
       "       [17.        ,  6.1       ],\n",
       "       [17.4       ,  6.1       ],\n",
       "       [17.        ,  6.1       ],\n",
       "       [16.9       ,  6.1       ],\n",
       "       [16.5       ,  6.1       ],\n",
       "       [16.5       ,  6.1       ],\n",
       "       [16.6       ,  6.6       ],\n",
       "       [17.        ,  6.6       ],\n",
       "       [17.        ,  6.6       ],\n",
       "       [17.        ,  6.6       ],\n",
       "       [17.        ,  6.6       ],\n",
       "       [17.        ,  6.6       ],\n",
       "       [17.        ,  6.6       ],\n",
       "       [17.5       ,  6.6       ],\n",
       "       [18.        ,  6.6       ],\n",
       "       [17.55      ,  6.6       ],\n",
       "       [17.        ,  6.6       ],\n",
       "       [17.        ,  6.6       ],\n",
       "       [17.        ,  5.4       ],\n",
       "       [17.        ,  5.4       ],\n",
       "       [17.        ,  5.4       ],\n",
       "       [17.        ,  5.4       ],\n",
       "       [16.5       ,  5.4       ],\n",
       "       [16.7       ,  5.4       ],\n",
       "       [16.5       ,  5.4       ],\n",
       "       [16.5       ,  5.4       ],\n",
       "       [16.1       ,  5.4       ],\n",
       "       [16.5       ,  5.4       ],\n",
       "       [16.5       ,  5.4       ],\n",
       "       [16.5       ,  5.4       ],\n",
       "       [16.5       ,  2.7       ],\n",
       "       [16.5       ,  2.7       ],\n",
       "       [16.5       ,  2.7       ],\n",
       "       [16.5       ,  2.7       ],\n",
       "       [16.5       ,  2.7       ],\n",
       "       [16.8       ,  2.7       ],\n",
       "       [18.        ,  2.7       ],\n",
       "       [17.6       ,  2.7       ],\n",
       "       [17.5       ,  2.7       ],\n",
       "       [17.        ,  2.7       ],\n",
       "       [17.        ,  2.7       ],\n",
       "       [17.        ,  2.7       ],\n",
       "       [16.75      ,  2.3       ],\n",
       "       [16.5       ,  2.3       ],\n",
       "       [17.        ,  2.3       ],\n",
       "       [17.5       ,  2.3       ],\n",
       "       [18.        ,  2.3       ],\n",
       "       [18.        ,  2.3       ],\n",
       "       [18.        ,  2.3       ],\n",
       "       [18.        ,  2.3       ],\n",
       "       [18.        ,  2.3       ],\n",
       "       [18.        ,  2.3       ],\n",
       "       [18.        ,  2.3       ],\n",
       "       [18.        ,  2.3       ],\n",
       "       [17.5       ,  4.8       ],\n",
       "       [17.63      ,  4.8       ],\n",
       "       [18.        ,  4.8       ],\n",
       "       [19.25      ,  4.8       ],\n",
       "       [19.        ,  4.8       ],\n",
       "       [19.75      ,  4.8       ],\n",
       "       [20.6       ,  4.8       ],\n",
       "       [20.        ,  4.8       ],\n",
       "       [19.        ,  4.8       ],\n",
       "       [18.6       ,  4.8       ],\n",
       "       [17.88      ,  4.8       ],\n",
       "       [19.        ,  4.8       ],\n",
       "       [19.        ,  6.6       ],\n",
       "       [19.25      ,  6.6       ],\n",
       "       [20.25      ,  6.6       ],\n",
       "       [21.4       ,  6.6       ],\n",
       "       [21.4       ,  6.6       ],\n",
       "       [22.        ,  6.6       ],\n",
       "       [21.6       ,  6.6       ],\n",
       "       [21.        ,  6.6       ],\n",
       "       [21.        ,  6.6       ],\n",
       "       [20.        ,  6.6       ],\n",
       "       [20.        ,  6.6       ],\n",
       "       [20.        ,  6.6       ],\n",
       "       [20.        ,  5.5       ],\n",
       "       [20.75      ,  5.5       ],\n",
       "       [20.5       ,  5.5       ],\n",
       "       [20.        ,  5.5       ],\n",
       "       [20.        ,  5.5       ],\n",
       "       [20.        ,  5.5       ],\n",
       "       [20.        ,  5.5       ],\n",
       "       [20.5       ,  5.5       ],\n",
       "       [21.8       ,  5.5       ],\n",
       "       [21.38      ,  5.5       ],\n",
       "       [21.5       ,  5.5       ],\n",
       "       [21.        ,  5.5       ],\n",
       "       [21.        ,  2.9       ],\n",
       "       [21.        ,  2.9       ],\n",
       "       [21.        ,  2.9       ],\n",
       "       [23.        ,  2.9       ],\n",
       "       [25.        ,  2.9       ],\n",
       "       [25.        ,  2.9       ],\n",
       "       [25.        ,  2.9       ],\n",
       "       [25.        ,  2.9       ],\n",
       "       [25.        ,  2.9       ],\n",
       "       [25.        ,  2.9       ],\n",
       "       [24.74      ,  2.9       ],\n",
       "       [23.2       ,  2.9       ],\n",
       "       [23.        ,  8.2       ],\n",
       "       [23.        ,  8.2       ],\n",
       "       [25.        ,  8.2       ],\n",
       "       [31.25      ,  8.2       ],\n",
       "       [34.        ,  8.2       ],\n",
       "       [37.6       ,  8.2       ],\n",
       "       [34.        ,  8.2       ],\n",
       "       [30.6       ,  8.2       ],\n",
       "       [27.25      ,  8.2       ],\n",
       "       [27.        ,  8.2       ],\n",
       "       [28.2       ,  8.2       ],\n",
       "       [29.        ,  8.2       ],\n",
       "       [30.        ,  4.2       ],\n",
       "       [32.5       ,  4.2       ],\n",
       "       [33.        ,  4.2       ],\n",
       "       [33.        ,  4.2       ],\n",
       "       [33.        ,  4.2       ],\n",
       "       [33.        ,  4.2       ],\n",
       "       [32.3       ,  4.2       ],\n",
       "       [32.        ,  4.2       ],\n",
       "       [32.        ,  4.2       ],\n",
       "       [32.        ,  4.2       ],\n",
       "       [32.        ,  4.2       ],\n",
       "       [31.25      ,  4.2       ],\n",
       "       [32.        ,  3.9       ],\n",
       "       [31.        ,  3.9       ],\n",
       "       [31.5       ,  3.9       ],\n",
       "       [31.6       ,  4.        ],\n",
       "       [31.75      ,  3.9       ],\n",
       "       [31.5       ,  3.6       ],\n",
       "       [31.8       ,  3.8       ],\n",
       "       [31.75      ,  4.1       ],\n",
       "       [32.        ,  3.8       ],\n",
       "       [31.2       ,  3.3       ],\n",
       "       [30.75      ,  3.7       ],\n",
       "       [31.        ,  3.6       ],\n",
       "       [31.6       ,  4.        ],\n",
       "       [32.        ,  4.7       ],\n",
       "       [32.        ,  4.9       ],\n",
       "       [31.8       ,  4.7       ],\n",
       "       [32.        ,  4.9       ],\n",
       "       [31.25      ,  5.2       ],\n",
       "       [31.        ,  4.9       ],\n",
       "       [31.        ,  4.6       ],\n",
       "       [31.25      ,  4.7       ],\n",
       "       [32.        ,  5.2       ],\n",
       "       [32.        ,  4.7       ],\n",
       "       [32.        ,  4.2       ],\n",
       "       [31.75      ,  4.        ],\n",
       "       [32.        ,  2.7       ],\n",
       "       [31.6       ,  2.6       ],\n",
       "       [31.75      ,  3.        ],\n",
       "       [32.25      ,  2.9       ],\n",
       "       [33.        ,  2.8       ],\n",
       "       [32.5       ,  3.2       ],\n",
       "       [33.        ,  3.8       ],\n",
       "       [33.        ,  3.6       ],\n",
       "       [32.5       ,  3.1       ],\n",
       "       [32.        ,  2.8       ],\n",
       "       [32.4       ,  2.8       ],\n",
       "       [36.38      ,  2.8       ],\n",
       "       [36.63      ,  2.9       ],\n",
       "       [36.63      ,  2.7       ],\n",
       "       [36.63      ,  2.2       ],\n",
       "       [36.56      ,  2.3       ],\n",
       "       [37.19      ,  2.5       ],\n",
       "       [37.38      ,  2.4       ],\n",
       "       [40.75      ,  1.8       ],\n",
       "       [41.25      ,  2.3       ],\n",
       "       [41.        ,  2.4       ],\n",
       "       [40.        ,  2.9       ],\n",
       "       [40.38      ,  3.8       ],\n",
       "       [40.75      ,  3.7       ],\n",
       "       [40.88      ,  3.6       ],\n",
       "       [41.63      ,  3.5       ],\n",
       "       [42.        ,  3.6       ],\n",
       "       [42.38      ,  4.        ],\n",
       "       [43.5       ,  3.8       ],\n",
       "       [45.25      ,  4.2       ],\n",
       "       [45.88      ,  4.2       ],\n",
       "       [46.38      ,  3.9       ],\n",
       "       [46.38      ,  3.7       ],\n",
       "       [42.88      ,  3.        ],\n",
       "       [43.5       ,  1.9       ],\n",
       "       [44.        ,  1.5       ],\n",
       "       [42.        ,  1.5       ],\n",
       "       [42.38      ,  1.5       ],\n",
       "       [42.38      ,  1.4       ],\n",
       "       [43.38      ,  0.9       ],\n",
       "       [43.5       ,  0.6       ],\n",
       "       [43.5       ,  0.2       ],\n",
       "       [43.38      ,  0.        ],\n",
       "       [43.5       ,  5.07139175],\n",
       "       [43.25      ,  5.07139175],\n",
       "       [43.        ,  0.3       ],\n",
       "       [43.        ,  0.7       ],\n",
       "       [42.88      ,  0.7       ],\n",
       "       [40.75      ,  0.5       ],\n",
       "       [40.63      ,  0.6       ],\n",
       "       [41.5       ,  0.7       ],\n",
       "       [41.25      ,  0.9       ],\n",
       "       [40.25      ,  1.3       ],\n",
       "       [42.        ,  1.3       ],\n",
       "       [42.        ,  1.3       ],\n",
       "       [41.13      ,  1.7       ],\n",
       "       [41.13      ,  1.8       ],\n",
       "       [41.63      ,  2.1       ],\n",
       "       [41.5       ,  2.2       ],\n",
       "       [41.5       ,  2.5       ],\n",
       "       [41.25      ,  3.1       ],\n",
       "       [41.        ,  3.1       ],\n",
       "       [41.        ,  3.2       ],\n",
       "       [41.        ,  2.9       ],\n",
       "       [42.13      ,  2.5       ],\n",
       "       [42.5       ,  2.4       ],\n",
       "       [42.        ,  2.6       ],\n",
       "       [42.63      ,  3.        ],\n",
       "       [42.5       ,  3.1       ],\n",
       "       [42.38      ,  3.        ],\n",
       "       [42.38      ,  2.9       ],\n",
       "       [46.61      ,  3.4       ],\n",
       "       [47.21      ,  3.7       ],\n",
       "       [47.66      ,  4.3       ],\n",
       "       [47.48      ,  4.3       ],\n",
       "       [47.48      ,  4.6       ],\n",
       "       [47.08      ,  5.        ],\n",
       "       [46.81      ,  5.8       ],\n",
       "       [49.1       ,  6.6       ],\n",
       "       [53.96      ,  6.9       ],\n",
       "       [53.96      ,  6.9       ],\n",
       "       [48.63      ,  6.1       ],\n",
       "       [48.09      ,  5.2       ],\n",
       "       [48.09      ,  4.4       ],\n",
       "       [47.22      ,  3.8       ],\n",
       "       [46.41      ,  3.4       ],\n",
       "       [45.6       ,  3.2       ],\n",
       "       [44.93      ,  3.2       ],\n",
       "       [45.47      ,  2.7       ],\n",
       "       [45.87      ,  2.2       ],\n",
       "       [45.87      ,  1.4       ],\n",
       "       [45.6       ,  0.5       ],\n",
       "       [45.06      ,  0.6       ],\n",
       "       [44.66      ,  1.2       ],\n",
       "       [44.66      ,  2.4       ]])"
      ]
     },
     "execution_count": 18,
     "metadata": {},
     "output_type": "execute_result"
    }
   ],
   "source": [
    "original_value"
   ]
  },
  {
   "cell_type": "code",
   "execution_count": 19,
   "id": "11af2bfd",
   "metadata": {},
   "outputs": [],
   "source": [
    "from tensorflow.keras.preprocessing.sequence import TimeseriesGenerator"
   ]
  },
  {
   "cell_type": "code",
   "execution_count": 20,
   "id": "c9dbc95c",
   "metadata": {},
   "outputs": [],
   "source": [
    "# Define generator for LSTM\n",
    "n_input = 345\n",
    "n_features = 2  # Two features: Price / kg and Inflation Rate\n",
    "generator = TimeseriesGenerator(scaled_train, scaled_train[:, 0], length=n_input, batch_size=1)"
   ]
  },
  {
   "cell_type": "code",
   "execution_count": 21,
   "id": "778badc0",
   "metadata": {},
   "outputs": [
    {
     "name": "stdout",
     "output_type": "stream",
     "text": [
      "Given the Array (scaled): \n",
      "[0.00219974 0.40571134 0.01099868 0.40571134 0.         0.40571134\n",
      " 0.00989881 0.40571134 0.02639683 0.40571134 0.02639683 0.40571134\n",
      " 0.01429828 0.40571134 0.01429828 0.40571134 0.00989881 0.40571134\n",
      " 0.00549934 0.40571134 0.0241971  0.40571134 0.01759789 0.40571134\n",
      " 0.01869776 0.40571134 0.01979762 0.40571134 0.01759789 0.40571134\n",
      " 0.01759789 0.40571134 0.0241971  0.40571134 0.0241971  0.40571134\n",
      " 0.02639683 0.40571134 0.0307963  0.40571134 0.02199736 0.40571134\n",
      " 0.01979762 0.40571134 0.01539815 0.40571134 0.01539815 0.40571134\n",
      " 0.01979762 0.688      0.01759789 0.688      0.01979762 0.688\n",
      " 0.02529696 0.688      0.04289485 0.688      0.04179498 0.688\n",
      " 0.06599208 0.688      0.07699076 0.688      0.06159261 0.688\n",
      " 0.03299604 0.688      0.04179498 0.688      0.03299604 0.688\n",
      " 0.04179498 0.544      0.04179498 0.544      0.04179498 0.544\n",
      " 0.04179498 0.544      0.05059393 0.544      0.05059393 0.544\n",
      " 0.06379234 0.544      0.08798944 0.544      0.08578971 0.544\n",
      " 0.06599208 0.544      0.06599208 0.544      0.0549934  0.544\n",
      " 0.06599208 1.         0.06819182 1.         0.06599208 1.\n",
      " 0.08578971 1.         0.08798944 1.         0.08798944 1.\n",
      " 0.09458865 1.         0.10778707 1.         0.10778707 1.\n",
      " 0.09458865 1.         0.09458865 1.         0.09458865 1.\n",
      " 0.09458865 0.552      0.09128905 0.552      0.09458865 0.552\n",
      " 0.11108667 0.552      0.13198416 0.552      0.15288165 0.552\n",
      " 0.15398152 0.552      0.20897492 0.552      0.19797624 0.552\n",
      " 0.1924769  0.552      0.17267928 0.552      0.16278047 0.552\n",
      " 0.17817862 0.664      0.19797624 0.664      0.1891773  0.664\n",
      " 0.18697756 0.664      0.18697756 0.664      0.20457545 0.664\n",
      " 0.20897492 0.664      0.20897492 0.664      0.1924769  0.664\n",
      " 0.17597888 0.664      0.1649802  0.664      0.1649802  0.664\n",
      " 0.16717994 0.456      0.16717994 0.456      0.17597888 0.456\n",
      " 0.1649802  0.456      0.16717994 0.456      0.16717994 0.456\n",
      " 0.17597888 0.456      0.18697756 0.456      0.1891773  0.456\n",
      " 0.19797624 0.456      0.17377915 0.456      0.1649802  0.456\n",
      " 0.16937967 0.752      0.17597888 0.752      0.17597888 0.752\n",
      " 0.17597888 0.752      0.17597888 0.752      0.18697756 0.752\n",
      " 0.18697756 0.752      0.18697756 0.752      0.19577651 0.752\n",
      " 0.18257809 0.752      0.17597888 0.752      0.17267928 0.752\n",
      " 0.18477783 0.488      0.1891773  0.488      0.18697756 0.488\n",
      " 0.18697756 0.488      0.18697756 0.488      0.1924769  0.488\n",
      " 0.18697756 0.488      0.19577651 0.488      0.18697756 0.488\n",
      " 0.18477783 0.488      0.17597888 0.488      0.17597888 0.488\n",
      " 0.17817862 0.528      0.18697756 0.528      0.18697756 0.528\n",
      " 0.18697756 0.528      0.18697756 0.528      0.18697756 0.528\n",
      " 0.18697756 0.528      0.19797624 0.528      0.20897492 0.528\n",
      " 0.19907611 0.528      0.18697756 0.528      0.18697756 0.528\n",
      " 0.18697756 0.432      0.18697756 0.432      0.18697756 0.432\n",
      " 0.18697756 0.432      0.17597888 0.432      0.18037835 0.432\n",
      " 0.17597888 0.432      0.17597888 0.432      0.16717994 0.432\n",
      " 0.17597888 0.432      0.17597888 0.432      0.17597888 0.432\n",
      " 0.17597888 0.216      0.17597888 0.216      0.17597888 0.216\n",
      " 0.17597888 0.216      0.17597888 0.216      0.18257809 0.216\n",
      " 0.20897492 0.216      0.20017598 0.216      0.19797624 0.216\n",
      " 0.18697756 0.216      0.18697756 0.216      0.18697756 0.216\n",
      " 0.18147822 0.184      0.17597888 0.184      0.18697756 0.184\n",
      " 0.19797624 0.184      0.20897492 0.184      0.20897492 0.184\n",
      " 0.20897492 0.184      0.20897492 0.184      0.20897492 0.184\n",
      " 0.20897492 0.184      0.20897492 0.184      0.20897492 0.184\n",
      " 0.19797624 0.384      0.2008359  0.384      0.20897492 0.384\n",
      " 0.23647162 0.384      0.23097228 0.384      0.2474703  0.384\n",
      " 0.26616806 0.384      0.25296964 0.384      0.23097228 0.384\n",
      " 0.22217334 0.384      0.20633524 0.384      0.23097228 0.384\n",
      " 0.23097228 0.528      0.23647162 0.528      0.25846898 0.528\n",
      " 0.28376595 0.528      0.28376595 0.528      0.29696436 0.528\n",
      " 0.28816542 0.528      0.274967   0.528      0.274967   0.528\n",
      " 0.25296964 0.528      0.25296964 0.528      0.25296964 0.528\n",
      " 0.25296964 0.44       0.26946766 0.44       0.26396832 0.44\n",
      " 0.25296964 0.44       0.25296964 0.44       0.25296964 0.44\n",
      " 0.25296964 0.44       0.26396832 0.44       0.29256489 0.44\n",
      " 0.283326   0.44       0.28596568 0.44       0.274967   0.44\n",
      " 0.274967   0.232      0.274967   0.232      0.274967   0.232\n",
      " 0.31896172 0.232      0.36295645 0.232      0.36295645 0.232\n",
      " 0.36295645 0.232      0.36295645 0.232      0.36295645 0.232\n",
      " 0.36295645 0.232      0.35723713 0.232      0.3233612  0.232\n",
      " 0.31896172 0.656      0.31896172 0.656      0.36295645 0.656\n",
      " 0.50043995 0.656      0.56093269 0.656      0.64012319 0.656\n",
      " 0.56093269 0.656      0.48614166 0.656      0.41245051 0.656\n",
      " 0.40695117 0.656      0.433348   0.656      0.45094589 0.656\n",
      " 0.47294325 0.336      0.52793665 0.336      0.53893533 0.336\n",
      " 0.53893533 0.336      0.53893533 0.336      0.53893533 0.336\n",
      " 0.52353718 0.336      0.51693797 0.336      0.51693797 0.336\n",
      " 0.51693797 0.336      0.51693797 0.336      0.50043995 0.336\n",
      " 0.51693797 0.312      0.49494061 0.312      0.50593929 0.312\n",
      " 0.50813902 0.32       0.51143863 0.312      0.50593929 0.288\n",
      " 0.5125385  0.304      0.51143863 0.328      0.51693797 0.304\n",
      " 0.49934008 0.264      0.48944127 0.296      0.49494061 0.288\n",
      " 0.50813902 0.32       0.51693797 0.376      0.51693797 0.392\n",
      " 0.5125385  0.376      0.51693797 0.392      0.50043995 0.416\n",
      " 0.49494061 0.392      0.49494061 0.368      0.50043995 0.376\n",
      " 0.51693797 0.416      0.51693797 0.376      0.51693797 0.336\n",
      " 0.51143863 0.32       0.51693797 0.216      0.50813902 0.208\n",
      " 0.51143863 0.24       0.52243731 0.232      0.53893533 0.224\n",
      " 0.52793665 0.256      0.53893533 0.304      0.53893533 0.288\n",
      " 0.52793665 0.248      0.51693797 0.224      0.52573691 0.224\n",
      " 0.61328641 0.224      0.61878575 0.232      0.61878575 0.216\n",
      " 0.61878575 0.176      0.61724593 0.184      0.63110427 0.2\n",
      " 0.63528377 0.192      0.70941487 0.144      0.72041355 0.184\n",
      " 0.71491421 0.192      0.69291685 0.232      0.70127585 0.304\n",
      " 0.70941487 0.296      0.71227453 0.288      0.72877255 0.28\n",
      " 0.73691157 0.288      0.74527057 0.32       0.76990761 0.304\n",
      " 0.80840299 0.336      0.82226133 0.336      0.83326001 0.312\n",
      " 0.83326001 0.296      0.75626925 0.24       0.76990761 0.152\n",
      " 0.78090629 0.12       0.73691157 0.12       0.74527057 0.12\n",
      " 0.74527057 0.112      0.76726793 0.072      0.76990761 0.048\n",
      " 0.76990761 0.016      0.76726793 0.         0.76990761 0.40571134\n",
      " 0.76440827 0.40571134 0.75890893 0.024      0.75890893 0.056\n",
      " 0.75626925 0.056      0.70941487 0.04       0.70677519 0.048\n",
      " 0.72591289 0.056      0.72041355 0.072      0.69841619 0.104\n",
      " 0.73691157 0.104      0.73691157 0.104      0.71777387 0.136\n",
      " 0.71777387 0.144      0.72877255 0.168      0.72591289 0.176\n",
      " 0.72591289 0.2        0.72041355 0.248      0.71491421 0.248\n",
      " 0.71491421 0.256      0.71491421 0.232      0.73977123 0.2\n",
      " 0.74791025 0.192      0.73691157 0.208      0.75076991 0.24\n",
      " 0.74791025 0.248      0.74527057 0.24       0.74527057 0.232\n",
      " 0.8383194  0.272      0.85151782 0.296      0.86141663 0.344\n",
      " 0.85745711 0.344      0.85745711 0.368      0.84865816 0.4\n",
      " 0.84271887 0.464      0.89309283 0.528      1.         0.552     ]\n",
      "Original values: \n",
      "[[ 8.6         5.07139175]\n",
      " [ 9.          5.07139175]\n",
      " [ 8.5         5.07139175]\n",
      " [ 8.95        5.07139175]\n",
      " [ 9.7         5.07139175]\n",
      " [ 9.7         5.07139175]\n",
      " [ 9.15        5.07139175]\n",
      " [ 9.15        5.07139175]\n",
      " [ 8.95        5.07139175]\n",
      " [ 8.75        5.07139175]\n",
      " [ 9.6         5.07139175]\n",
      " [ 9.3         5.07139175]\n",
      " [ 9.35        5.07139175]\n",
      " [ 9.4         5.07139175]\n",
      " [ 9.3         5.07139175]\n",
      " [ 9.3         5.07139175]\n",
      " [ 9.6         5.07139175]\n",
      " [ 9.6         5.07139175]\n",
      " [ 9.7         5.07139175]\n",
      " [ 9.9         5.07139175]\n",
      " [ 9.5         5.07139175]\n",
      " [ 9.4         5.07139175]\n",
      " [ 9.2         5.07139175]\n",
      " [ 9.2         5.07139175]\n",
      " [ 9.4         8.6       ]\n",
      " [ 9.3         8.6       ]\n",
      " [ 9.4         8.6       ]\n",
      " [ 9.65        8.6       ]\n",
      " [10.45        8.6       ]\n",
      " [10.4         8.6       ]\n",
      " [11.5         8.6       ]\n",
      " [12.          8.6       ]\n",
      " [11.3         8.6       ]\n",
      " [10.          8.6       ]\n",
      " [10.4         8.6       ]\n",
      " [10.          8.6       ]\n",
      " [10.4         6.8       ]\n",
      " [10.4         6.8       ]\n",
      " [10.4         6.8       ]\n",
      " [10.4         6.8       ]\n",
      " [10.8         6.8       ]\n",
      " [10.8         6.8       ]\n",
      " [11.4         6.8       ]\n",
      " [12.5         6.8       ]\n",
      " [12.4         6.8       ]\n",
      " [11.5         6.8       ]\n",
      " [11.5         6.8       ]\n",
      " [11.          6.8       ]\n",
      " [11.5        12.5       ]\n",
      " [11.6        12.5       ]\n",
      " [11.5        12.5       ]\n",
      " [12.4        12.5       ]\n",
      " [12.5        12.5       ]\n",
      " [12.5        12.5       ]\n",
      " [12.8        12.5       ]\n",
      " [13.4        12.5       ]\n",
      " [13.4        12.5       ]\n",
      " [12.8        12.5       ]\n",
      " [12.8        12.5       ]\n",
      " [12.8        12.5       ]\n",
      " [12.8         6.9       ]\n",
      " [12.65        6.9       ]\n",
      " [12.8         6.9       ]\n",
      " [13.55        6.9       ]\n",
      " [14.5         6.9       ]\n",
      " [15.45        6.9       ]\n",
      " [15.5         6.9       ]\n",
      " [18.          6.9       ]\n",
      " [17.5         6.9       ]\n",
      " [17.25        6.9       ]\n",
      " [16.35        6.9       ]\n",
      " [15.9         6.9       ]\n",
      " [16.6         8.3       ]\n",
      " [17.5         8.3       ]\n",
      " [17.1         8.3       ]\n",
      " [17.          8.3       ]\n",
      " [17.          8.3       ]\n",
      " [17.8         8.3       ]\n",
      " [18.          8.3       ]\n",
      " [18.          8.3       ]\n",
      " [17.25        8.3       ]\n",
      " [16.5         8.3       ]\n",
      " [16.          8.3       ]\n",
      " [16.          8.3       ]\n",
      " [16.1         5.7       ]\n",
      " [16.1         5.7       ]\n",
      " [16.5         5.7       ]\n",
      " [16.          5.7       ]\n",
      " [16.1         5.7       ]\n",
      " [16.1         5.7       ]\n",
      " [16.5         5.7       ]\n",
      " [17.          5.7       ]\n",
      " [17.1         5.7       ]\n",
      " [17.5         5.7       ]\n",
      " [16.4         5.7       ]\n",
      " [16.          5.7       ]\n",
      " [16.2         9.4       ]\n",
      " [16.5         9.4       ]\n",
      " [16.5         9.4       ]\n",
      " [16.5         9.4       ]\n",
      " [16.5         9.4       ]\n",
      " [17.          9.4       ]\n",
      " [17.          9.4       ]\n",
      " [17.          9.4       ]\n",
      " [17.4         9.4       ]\n",
      " [16.8         9.4       ]\n",
      " [16.5         9.4       ]\n",
      " [16.35        9.4       ]\n",
      " [16.9         6.1       ]\n",
      " [17.1         6.1       ]\n",
      " [17.          6.1       ]\n",
      " [17.          6.1       ]\n",
      " [17.          6.1       ]\n",
      " [17.25        6.1       ]\n",
      " [17.          6.1       ]\n",
      " [17.4         6.1       ]\n",
      " [17.          6.1       ]\n",
      " [16.9         6.1       ]\n",
      " [16.5         6.1       ]\n",
      " [16.5         6.1       ]\n",
      " [16.6         6.6       ]\n",
      " [17.          6.6       ]\n",
      " [17.          6.6       ]\n",
      " [17.          6.6       ]\n",
      " [17.          6.6       ]\n",
      " [17.          6.6       ]\n",
      " [17.          6.6       ]\n",
      " [17.5         6.6       ]\n",
      " [18.          6.6       ]\n",
      " [17.55        6.6       ]\n",
      " [17.          6.6       ]\n",
      " [17.          6.6       ]\n",
      " [17.          5.4       ]\n",
      " [17.          5.4       ]\n",
      " [17.          5.4       ]\n",
      " [17.          5.4       ]\n",
      " [16.5         5.4       ]\n",
      " [16.7         5.4       ]\n",
      " [16.5         5.4       ]\n",
      " [16.5         5.4       ]\n",
      " [16.1         5.4       ]\n",
      " [16.5         5.4       ]\n",
      " [16.5         5.4       ]\n",
      " [16.5         5.4       ]\n",
      " [16.5         2.7       ]\n",
      " [16.5         2.7       ]\n",
      " [16.5         2.7       ]\n",
      " [16.5         2.7       ]\n",
      " [16.5         2.7       ]\n",
      " [16.8         2.7       ]\n",
      " [18.          2.7       ]\n",
      " [17.6         2.7       ]\n",
      " [17.5         2.7       ]\n",
      " [17.          2.7       ]\n",
      " [17.          2.7       ]\n",
      " [17.          2.7       ]\n",
      " [16.75        2.3       ]\n",
      " [16.5         2.3       ]\n",
      " [17.          2.3       ]\n",
      " [17.5         2.3       ]\n",
      " [18.          2.3       ]\n",
      " [18.          2.3       ]\n",
      " [18.          2.3       ]\n",
      " [18.          2.3       ]\n",
      " [18.          2.3       ]\n",
      " [18.          2.3       ]\n",
      " [18.          2.3       ]\n",
      " [18.          2.3       ]\n",
      " [17.5         4.8       ]\n",
      " [17.63        4.8       ]\n",
      " [18.          4.8       ]\n",
      " [19.25        4.8       ]\n",
      " [19.          4.8       ]\n",
      " [19.75        4.8       ]\n",
      " [20.6         4.8       ]\n",
      " [20.          4.8       ]\n",
      " [19.          4.8       ]\n",
      " [18.6         4.8       ]\n",
      " [17.88        4.8       ]\n",
      " [19.          4.8       ]\n",
      " [19.          6.6       ]\n",
      " [19.25        6.6       ]\n",
      " [20.25        6.6       ]\n",
      " [21.4         6.6       ]\n",
      " [21.4         6.6       ]\n",
      " [22.          6.6       ]\n",
      " [21.6         6.6       ]\n",
      " [21.          6.6       ]\n",
      " [21.          6.6       ]\n",
      " [20.          6.6       ]\n",
      " [20.          6.6       ]\n",
      " [20.          6.6       ]\n",
      " [20.          5.5       ]\n",
      " [20.75        5.5       ]\n",
      " [20.5         5.5       ]\n",
      " [20.          5.5       ]\n",
      " [20.          5.5       ]\n",
      " [20.          5.5       ]\n",
      " [20.          5.5       ]\n",
      " [20.5         5.5       ]\n",
      " [21.8         5.5       ]\n",
      " [21.38        5.5       ]\n",
      " [21.5         5.5       ]\n",
      " [21.          5.5       ]\n",
      " [21.          2.9       ]\n",
      " [21.          2.9       ]\n",
      " [21.          2.9       ]\n",
      " [23.          2.9       ]\n",
      " [25.          2.9       ]\n",
      " [25.          2.9       ]\n",
      " [25.          2.9       ]\n",
      " [25.          2.9       ]\n",
      " [25.          2.9       ]\n",
      " [25.          2.9       ]\n",
      " [24.74        2.9       ]\n",
      " [23.2         2.9       ]\n",
      " [23.          8.2       ]\n",
      " [23.          8.2       ]\n",
      " [25.          8.2       ]\n",
      " [31.25        8.2       ]\n",
      " [34.          8.2       ]\n",
      " [37.6         8.2       ]\n",
      " [34.          8.2       ]\n",
      " [30.6         8.2       ]\n",
      " [27.25        8.2       ]\n",
      " [27.          8.2       ]\n",
      " [28.2         8.2       ]\n",
      " [29.          8.2       ]\n",
      " [30.          4.2       ]\n",
      " [32.5         4.2       ]\n",
      " [33.          4.2       ]\n",
      " [33.          4.2       ]\n",
      " [33.          4.2       ]\n",
      " [33.          4.2       ]\n",
      " [32.3         4.2       ]\n",
      " [32.          4.2       ]\n",
      " [32.          4.2       ]\n",
      " [32.          4.2       ]\n",
      " [32.          4.2       ]\n",
      " [31.25        4.2       ]\n",
      " [32.          3.9       ]\n",
      " [31.          3.9       ]\n",
      " [31.5         3.9       ]\n",
      " [31.6         4.        ]\n",
      " [31.75        3.9       ]\n",
      " [31.5         3.6       ]\n",
      " [31.8         3.8       ]\n",
      " [31.75        4.1       ]\n",
      " [32.          3.8       ]\n",
      " [31.2         3.3       ]\n",
      " [30.75        3.7       ]\n",
      " [31.          3.6       ]\n",
      " [31.6         4.        ]\n",
      " [32.          4.7       ]\n",
      " [32.          4.9       ]\n",
      " [31.8         4.7       ]\n",
      " [32.          4.9       ]\n",
      " [31.25        5.2       ]\n",
      " [31.          4.9       ]\n",
      " [31.          4.6       ]\n",
      " [31.25        4.7       ]\n",
      " [32.          5.2       ]\n",
      " [32.          4.7       ]\n",
      " [32.          4.2       ]\n",
      " [31.75        4.        ]\n",
      " [32.          2.7       ]\n",
      " [31.6         2.6       ]\n",
      " [31.75        3.        ]\n",
      " [32.25        2.9       ]\n",
      " [33.          2.8       ]\n",
      " [32.5         3.2       ]\n",
      " [33.          3.8       ]\n",
      " [33.          3.6       ]\n",
      " [32.5         3.1       ]\n",
      " [32.          2.8       ]\n",
      " [32.4         2.8       ]\n",
      " [36.38        2.8       ]\n",
      " [36.63        2.9       ]\n",
      " [36.63        2.7       ]\n",
      " [36.63        2.2       ]\n",
      " [36.56        2.3       ]\n",
      " [37.19        2.5       ]\n",
      " [37.38        2.4       ]\n",
      " [40.75        1.8       ]\n",
      " [41.25        2.3       ]\n",
      " [41.          2.4       ]\n",
      " [40.          2.9       ]\n",
      " [40.38        3.8       ]\n",
      " [40.75        3.7       ]\n",
      " [40.88        3.6       ]\n",
      " [41.63        3.5       ]\n",
      " [42.          3.6       ]\n",
      " [42.38        4.        ]\n",
      " [43.5         3.8       ]\n",
      " [45.25        4.2       ]\n",
      " [45.88        4.2       ]\n",
      " [46.38        3.9       ]\n",
      " [46.38        3.7       ]\n",
      " [42.88        3.        ]\n",
      " [43.5         1.9       ]\n",
      " [44.          1.5       ]\n",
      " [42.          1.5       ]\n",
      " [42.38        1.5       ]\n",
      " [42.38        1.4       ]\n",
      " [43.38        0.9       ]\n",
      " [43.5         0.6       ]\n",
      " [43.5         0.2       ]\n",
      " [43.38        0.        ]\n",
      " [43.5         5.07139175]\n",
      " [43.25        5.07139175]\n",
      " [43.          0.3       ]\n",
      " [43.          0.7       ]\n",
      " [42.88        0.7       ]\n",
      " [40.75        0.5       ]\n",
      " [40.63        0.6       ]\n",
      " [41.5         0.7       ]\n",
      " [41.25        0.9       ]\n",
      " [40.25        1.3       ]\n",
      " [42.          1.3       ]\n",
      " [42.          1.3       ]\n",
      " [41.13        1.7       ]\n",
      " [41.13        1.8       ]\n",
      " [41.63        2.1       ]\n",
      " [41.5         2.2       ]\n",
      " [41.5         2.5       ]\n",
      " [41.25        3.1       ]\n",
      " [41.          3.1       ]\n",
      " [41.          3.2       ]\n",
      " [41.          2.9       ]\n",
      " [42.13        2.5       ]\n",
      " [42.5         2.4       ]\n",
      " [42.          2.6       ]\n",
      " [42.63        3.        ]\n",
      " [42.5         3.1       ]\n",
      " [42.38        3.        ]\n",
      " [42.38        2.9       ]\n",
      " [46.61        3.4       ]\n",
      " [47.21        3.7       ]\n",
      " [47.66        4.3       ]\n",
      " [47.48        4.3       ]\n",
      " [47.48        4.6       ]\n",
      " [47.08        5.        ]\n",
      " [46.81        5.8       ]\n",
      " [49.1         6.6       ]\n",
      " [53.96        6.9       ]]\n"
     ]
    }
   ],
   "source": [
    "# Get the first batch\n",
    "X, y = generator[0]\n",
    "\n",
    "# Reshape X to 2D for inverse transformation\n",
    "# X shape is (1, n_input, n_features)\n",
    "X_reshaped = X.reshape(n_input, n_features)  # Reshape directly into (n_input, n_features)\n",
    "\n",
    "# Inverse transform to get original values\n",
    "original_values = scaler.inverse_transform(X_reshaped)\n",
    "\n",
    "# Print results\n",
    "print(f'Given the Array (scaled): \\n{X.flatten()}')\n",
    "print(f'Original values: \\n{original_values}')"
   ]
  },
  {
   "cell_type": "code",
   "execution_count": 22,
   "id": "fe8c9115",
   "metadata": {},
   "outputs": [
    {
     "name": "stdout",
     "output_type": "stream",
     "text": [
      "Predict this y (scaled): \n",
      " [1.] \n",
      "\n",
      "Original values (unscaled y): \n",
      "[53.96]\n"
     ]
    }
   ],
   "source": [
    "# For y, which is a single column (target feature)\n",
    "y_reshaped = y.reshape(-1, 1)  # This will make it (batch_size, 1)\n",
    "\n",
    "# Add dummy column to match the scaler's expected shape\n",
    "y_with_dummy_feature = np.hstack([y_reshaped, np.zeros_like(y_reshaped)])\n",
    "\n",
    "# Inverse transform and extract the first column (Price / kg)\n",
    "original_values_y = scaler.inverse_transform(y_with_dummy_feature)[:, 0]\n",
    "\n",
    "# Print results for y\n",
    "print(f'Predict this y (scaled): \\n {y.flatten()} \\n')\n",
    "print(f'Original values (unscaled y): \\n{original_values_y}')"
   ]
  },
  {
   "cell_type": "code",
   "execution_count": 23,
   "id": "acc1fc30",
   "metadata": {},
   "outputs": [
    {
     "data": {
      "text/plain": [
       "(1, 345, 2)"
      ]
     },
     "execution_count": 23,
     "metadata": {},
     "output_type": "execute_result"
    }
   ],
   "source": [
    "X.shape"
   ]
  },
  {
   "cell_type": "code",
   "execution_count": 24,
   "id": "9ffef880",
   "metadata": {},
   "outputs": [],
   "source": [
    "# We do the same thing, but now instead for 12 months\n",
    "#n_input = 12\n",
    "#generator = TimeseriesGenerator(scaled_train[:, 1:2], scaled_train[:, 1:2], length=n_input, batch_size=1)"
   ]
  },
  {
   "cell_type": "code",
   "execution_count": 25,
   "id": "36688b5e",
   "metadata": {},
   "outputs": [],
   "source": [
    "from keras.models import Sequential\n",
    "from keras.layers import Dense\n",
    "from keras.layers import LSTM"
   ]
  },
  {
   "cell_type": "code",
   "execution_count": 26,
   "id": "312b44e3",
   "metadata": {},
   "outputs": [
    {
     "name": "stderr",
     "output_type": "stream",
     "text": [
      "C:\\Users\\Krystel\\anaconda3\\Lib\\site-packages\\keras\\src\\layers\\rnn\\rnn.py:204: UserWarning: Do not pass an `input_shape`/`input_dim` argument to a layer. When using Sequential models, prefer using an `Input(shape)` object as the first layer in the model instead.\n",
      "  super().__init__(**kwargs)\n"
     ]
    }
   ],
   "source": [
    "# define model\n",
    "model = Sequential()\n",
    "model.add(LSTM(100, activation='relu', input_shape=(n_input, n_features)))\n",
    "model.add(Dense(1))\n",
    "model.compile(optimizer='adam', loss='mse')"
   ]
  },
  {
   "cell_type": "code",
   "execution_count": 27,
   "id": "beb36e4d",
   "metadata": {},
   "outputs": [
    {
     "data": {
      "text/html": [
       "<pre style=\"white-space:pre;overflow-x:auto;line-height:normal;font-family:Menlo,'DejaVu Sans Mono',consolas,'Courier New',monospace\"><span style=\"font-weight: bold\">Model: \"sequential\"</span>\n",
       "</pre>\n"
      ],
      "text/plain": [
       "\u001b[1mModel: \"sequential\"\u001b[0m\n"
      ]
     },
     "metadata": {},
     "output_type": "display_data"
    },
    {
     "data": {
      "text/html": [
       "<pre style=\"white-space:pre;overflow-x:auto;line-height:normal;font-family:Menlo,'DejaVu Sans Mono',consolas,'Courier New',monospace\">┏━━━━━━━━━━━━━━━━━━━━━━━━━━━━━━━━━┳━━━━━━━━━━━━━━━━━━━━━━━━┳━━━━━━━━━━━━━━━┓\n",
       "┃<span style=\"font-weight: bold\"> Layer (type)                    </span>┃<span style=\"font-weight: bold\"> Output Shape           </span>┃<span style=\"font-weight: bold\">       Param # </span>┃\n",
       "┡━━━━━━━━━━━━━━━━━━━━━━━━━━━━━━━━━╇━━━━━━━━━━━━━━━━━━━━━━━━╇━━━━━━━━━━━━━━━┩\n",
       "│ lstm (<span style=\"color: #0087ff; text-decoration-color: #0087ff\">LSTM</span>)                     │ (<span style=\"color: #00d7ff; text-decoration-color: #00d7ff\">None</span>, <span style=\"color: #00af00; text-decoration-color: #00af00\">100</span>)            │        <span style=\"color: #00af00; text-decoration-color: #00af00\">41,200</span> │\n",
       "├─────────────────────────────────┼────────────────────────┼───────────────┤\n",
       "│ dense (<span style=\"color: #0087ff; text-decoration-color: #0087ff\">Dense</span>)                   │ (<span style=\"color: #00d7ff; text-decoration-color: #00d7ff\">None</span>, <span style=\"color: #00af00; text-decoration-color: #00af00\">1</span>)              │           <span style=\"color: #00af00; text-decoration-color: #00af00\">101</span> │\n",
       "└─────────────────────────────────┴────────────────────────┴───────────────┘\n",
       "</pre>\n"
      ],
      "text/plain": [
       "┏━━━━━━━━━━━━━━━━━━━━━━━━━━━━━━━━━┳━━━━━━━━━━━━━━━━━━━━━━━━┳━━━━━━━━━━━━━━━┓\n",
       "┃\u001b[1m \u001b[0m\u001b[1mLayer (type)                   \u001b[0m\u001b[1m \u001b[0m┃\u001b[1m \u001b[0m\u001b[1mOutput Shape          \u001b[0m\u001b[1m \u001b[0m┃\u001b[1m \u001b[0m\u001b[1m      Param #\u001b[0m\u001b[1m \u001b[0m┃\n",
       "┡━━━━━━━━━━━━━━━━━━━━━━━━━━━━━━━━━╇━━━━━━━━━━━━━━━━━━━━━━━━╇━━━━━━━━━━━━━━━┩\n",
       "│ lstm (\u001b[38;5;33mLSTM\u001b[0m)                     │ (\u001b[38;5;45mNone\u001b[0m, \u001b[38;5;34m100\u001b[0m)            │        \u001b[38;5;34m41,200\u001b[0m │\n",
       "├─────────────────────────────────┼────────────────────────┼───────────────┤\n",
       "│ dense (\u001b[38;5;33mDense\u001b[0m)                   │ (\u001b[38;5;45mNone\u001b[0m, \u001b[38;5;34m1\u001b[0m)              │           \u001b[38;5;34m101\u001b[0m │\n",
       "└─────────────────────────────────┴────────────────────────┴───────────────┘\n"
      ]
     },
     "metadata": {},
     "output_type": "display_data"
    },
    {
     "data": {
      "text/html": [
       "<pre style=\"white-space:pre;overflow-x:auto;line-height:normal;font-family:Menlo,'DejaVu Sans Mono',consolas,'Courier New',monospace\"><span style=\"font-weight: bold\"> Total params: </span><span style=\"color: #00af00; text-decoration-color: #00af00\">41,301</span> (161.33 KB)\n",
       "</pre>\n"
      ],
      "text/plain": [
       "\u001b[1m Total params: \u001b[0m\u001b[38;5;34m41,301\u001b[0m (161.33 KB)\n"
      ]
     },
     "metadata": {},
     "output_type": "display_data"
    },
    {
     "data": {
      "text/html": [
       "<pre style=\"white-space:pre;overflow-x:auto;line-height:normal;font-family:Menlo,'DejaVu Sans Mono',consolas,'Courier New',monospace\"><span style=\"font-weight: bold\"> Trainable params: </span><span style=\"color: #00af00; text-decoration-color: #00af00\">41,301</span> (161.33 KB)\n",
       "</pre>\n"
      ],
      "text/plain": [
       "\u001b[1m Trainable params: \u001b[0m\u001b[38;5;34m41,301\u001b[0m (161.33 KB)\n"
      ]
     },
     "metadata": {},
     "output_type": "display_data"
    },
    {
     "data": {
      "text/html": [
       "<pre style=\"white-space:pre;overflow-x:auto;line-height:normal;font-family:Menlo,'DejaVu Sans Mono',consolas,'Courier New',monospace\"><span style=\"font-weight: bold\"> Non-trainable params: </span><span style=\"color: #00af00; text-decoration-color: #00af00\">0</span> (0.00 B)\n",
       "</pre>\n"
      ],
      "text/plain": [
       "\u001b[1m Non-trainable params: \u001b[0m\u001b[38;5;34m0\u001b[0m (0.00 B)\n"
      ]
     },
     "metadata": {},
     "output_type": "display_data"
    }
   ],
   "source": [
    "model.summary()"
   ]
  },
  {
   "cell_type": "code",
   "execution_count": 28,
   "id": "eed995d2",
   "metadata": {},
   "outputs": [
    {
     "name": "stdout",
     "output_type": "stream",
     "text": [
      "Epoch 1/50\n",
      "\u001b[1m 5/15\u001b[0m \u001b[32m━━━━━━\u001b[0m\u001b[37m━━━━━━━━━━━━━━\u001b[0m \u001b[1m0s\u001b[0m 30ms/step - loss: 0.4430"
     ]
    },
    {
     "name": "stderr",
     "output_type": "stream",
     "text": [
      "C:\\Users\\Krystel\\anaconda3\\Lib\\site-packages\\keras\\src\\trainers\\data_adapters\\py_dataset_adapter.py:122: UserWarning: Your `PyDataset` class should call `super().__init__(**kwargs)` in its constructor. `**kwargs` can include `workers`, `use_multiprocessing`, `max_queue_size`. Do not pass these arguments to `fit()`, as they will be ignored.\n",
      "  self._warn_if_super_not_called()\n"
     ]
    },
    {
     "name": "stdout",
     "output_type": "stream",
     "text": [
      "\u001b[1m15/15\u001b[0m \u001b[32m━━━━━━━━━━━━━━━━━━━━\u001b[0m\u001b[37m\u001b[0m \u001b[1m2s\u001b[0m 31ms/step - loss: 0.3344\n",
      "Epoch 2/50\n",
      "\u001b[1m15/15\u001b[0m \u001b[32m━━━━━━━━━━━━━━━━━━━━\u001b[0m\u001b[37m\u001b[0m \u001b[1m0s\u001b[0m 31ms/step - loss: 0.0243\n",
      "Epoch 3/50\n",
      "\u001b[1m15/15\u001b[0m \u001b[32m━━━━━━━━━━━━━━━━━━━━\u001b[0m\u001b[37m\u001b[0m \u001b[1m0s\u001b[0m 31ms/step - loss: 0.0075\n",
      "Epoch 4/50\n",
      "\u001b[1m15/15\u001b[0m \u001b[32m━━━━━━━━━━━━━━━━━━━━\u001b[0m\u001b[37m\u001b[0m \u001b[1m0s\u001b[0m 29ms/step - loss: 0.0015  \n",
      "Epoch 5/50\n",
      "\u001b[1m15/15\u001b[0m \u001b[32m━━━━━━━━━━━━━━━━━━━━\u001b[0m\u001b[37m\u001b[0m \u001b[1m0s\u001b[0m 30ms/step - loss: 0.0022\n",
      "Epoch 6/50\n",
      "\u001b[1m15/15\u001b[0m \u001b[32m━━━━━━━━━━━━━━━━━━━━\u001b[0m\u001b[37m\u001b[0m \u001b[1m0s\u001b[0m 30ms/step - loss: 7.5628e-04\n",
      "Epoch 7/50\n",
      "\u001b[1m15/15\u001b[0m \u001b[32m━━━━━━━━━━━━━━━━━━━━\u001b[0m\u001b[37m\u001b[0m \u001b[1m0s\u001b[0m 30ms/step - loss: 0.0071\n",
      "Epoch 8/50\n",
      "\u001b[1m15/15\u001b[0m \u001b[32m━━━━━━━━━━━━━━━━━━━━\u001b[0m\u001b[37m\u001b[0m \u001b[1m0s\u001b[0m 30ms/step - loss: 0.0046\n",
      "Epoch 9/50\n",
      "\u001b[1m15/15\u001b[0m \u001b[32m━━━━━━━━━━━━━━━━━━━━\u001b[0m\u001b[37m\u001b[0m \u001b[1m0s\u001b[0m 30ms/step - loss: 5.7740e-04\n",
      "Epoch 10/50\n",
      "\u001b[1m15/15\u001b[0m \u001b[32m━━━━━━━━━━━━━━━━━━━━\u001b[0m\u001b[37m\u001b[0m \u001b[1m1s\u001b[0m 34ms/step - loss: 0.0014\n",
      "Epoch 11/50\n",
      "\u001b[1m15/15\u001b[0m \u001b[32m━━━━━━━━━━━━━━━━━━━━\u001b[0m\u001b[37m\u001b[0m \u001b[1m0s\u001b[0m 30ms/step - loss: 0.0013  \n",
      "Epoch 12/50\n",
      "\u001b[1m15/15\u001b[0m \u001b[32m━━━━━━━━━━━━━━━━━━━━\u001b[0m\u001b[37m\u001b[0m \u001b[1m0s\u001b[0m 31ms/step - loss: 0.0018\n",
      "Epoch 13/50\n",
      "\u001b[1m15/15\u001b[0m \u001b[32m━━━━━━━━━━━━━━━━━━━━\u001b[0m\u001b[37m\u001b[0m \u001b[1m0s\u001b[0m 29ms/step - loss: 0.0028\n",
      "Epoch 14/50\n",
      "\u001b[1m15/15\u001b[0m \u001b[32m━━━━━━━━━━━━━━━━━━━━\u001b[0m\u001b[37m\u001b[0m \u001b[1m0s\u001b[0m 30ms/step - loss: 0.0022\n",
      "Epoch 15/50\n",
      "\u001b[1m15/15\u001b[0m \u001b[32m━━━━━━━━━━━━━━━━━━━━\u001b[0m\u001b[37m\u001b[0m \u001b[1m1s\u001b[0m 33ms/step - loss: 0.0028\n",
      "Epoch 16/50\n",
      "\u001b[1m15/15\u001b[0m \u001b[32m━━━━━━━━━━━━━━━━━━━━\u001b[0m\u001b[37m\u001b[0m \u001b[1m0s\u001b[0m 31ms/step - loss: 0.0029\n",
      "Epoch 17/50\n",
      "\u001b[1m15/15\u001b[0m \u001b[32m━━━━━━━━━━━━━━━━━━━━\u001b[0m\u001b[37m\u001b[0m \u001b[1m1s\u001b[0m 38ms/step - loss: 0.0082\n",
      "Epoch 18/50\n",
      "\u001b[1m15/15\u001b[0m \u001b[32m━━━━━━━━━━━━━━━━━━━━\u001b[0m\u001b[37m\u001b[0m \u001b[1m1s\u001b[0m 38ms/step - loss: 0.0022\n",
      "Epoch 19/50\n",
      "\u001b[1m15/15\u001b[0m \u001b[32m━━━━━━━━━━━━━━━━━━━━\u001b[0m\u001b[37m\u001b[0m \u001b[1m1s\u001b[0m 39ms/step - loss: 0.0041\n",
      "Epoch 20/50\n",
      "\u001b[1m15/15\u001b[0m \u001b[32m━━━━━━━━━━━━━━━━━━━━\u001b[0m\u001b[37m\u001b[0m \u001b[1m1s\u001b[0m 38ms/step - loss: 0.0016\n",
      "Epoch 21/50\n",
      "\u001b[1m15/15\u001b[0m \u001b[32m━━━━━━━━━━━━━━━━━━━━\u001b[0m\u001b[37m\u001b[0m \u001b[1m1s\u001b[0m 31ms/step - loss: 0.0060\n",
      "Epoch 22/50\n",
      "\u001b[1m15/15\u001b[0m \u001b[32m━━━━━━━━━━━━━━━━━━━━\u001b[0m\u001b[37m\u001b[0m \u001b[1m0s\u001b[0m 30ms/step - loss: 0.0011  \n",
      "Epoch 23/50\n",
      "\u001b[1m15/15\u001b[0m \u001b[32m━━━━━━━━━━━━━━━━━━━━\u001b[0m\u001b[37m\u001b[0m \u001b[1m0s\u001b[0m 31ms/step - loss: 0.0037\n",
      "Epoch 24/50\n",
      "\u001b[1m15/15\u001b[0m \u001b[32m━━━━━━━━━━━━━━━━━━━━\u001b[0m\u001b[37m\u001b[0m \u001b[1m0s\u001b[0m 30ms/step - loss: 0.0032\n",
      "Epoch 25/50\n",
      "\u001b[1m15/15\u001b[0m \u001b[32m━━━━━━━━━━━━━━━━━━━━\u001b[0m\u001b[37m\u001b[0m \u001b[1m0s\u001b[0m 30ms/step - loss: 0.0033\n",
      "Epoch 26/50\n",
      "\u001b[1m15/15\u001b[0m \u001b[32m━━━━━━━━━━━━━━━━━━━━\u001b[0m\u001b[37m\u001b[0m \u001b[1m0s\u001b[0m 30ms/step - loss: 0.0020\n",
      "Epoch 27/50\n",
      "\u001b[1m15/15\u001b[0m \u001b[32m━━━━━━━━━━━━━━━━━━━━\u001b[0m\u001b[37m\u001b[0m \u001b[1m1s\u001b[0m 32ms/step - loss: 0.0010    \n",
      "Epoch 28/50\n",
      "\u001b[1m15/15\u001b[0m \u001b[32m━━━━━━━━━━━━━━━━━━━━\u001b[0m\u001b[37m\u001b[0m \u001b[1m1s\u001b[0m 36ms/step - loss: 0.0033\n",
      "Epoch 29/50\n",
      "\u001b[1m15/15\u001b[0m \u001b[32m━━━━━━━━━━━━━━━━━━━━\u001b[0m\u001b[37m\u001b[0m \u001b[1m0s\u001b[0m 30ms/step - loss: 0.0023\n",
      "Epoch 30/50\n",
      "\u001b[1m15/15\u001b[0m \u001b[32m━━━━━━━━━━━━━━━━━━━━\u001b[0m\u001b[37m\u001b[0m \u001b[1m0s\u001b[0m 31ms/step - loss: 0.0046\n",
      "Epoch 31/50\n",
      "\u001b[1m15/15\u001b[0m \u001b[32m━━━━━━━━━━━━━━━━━━━━\u001b[0m\u001b[37m\u001b[0m \u001b[1m1s\u001b[0m 33ms/step - loss: 0.0011  \n",
      "Epoch 32/50\n",
      "\u001b[1m15/15\u001b[0m \u001b[32m━━━━━━━━━━━━━━━━━━━━\u001b[0m\u001b[37m\u001b[0m \u001b[1m0s\u001b[0m 30ms/step - loss: 0.0031\n",
      "Epoch 33/50\n",
      "\u001b[1m15/15\u001b[0m \u001b[32m━━━━━━━━━━━━━━━━━━━━\u001b[0m\u001b[37m\u001b[0m \u001b[1m0s\u001b[0m 30ms/step - loss: 0.0019\n",
      "Epoch 34/50\n",
      "\u001b[1m15/15\u001b[0m \u001b[32m━━━━━━━━━━━━━━━━━━━━\u001b[0m\u001b[37m\u001b[0m \u001b[1m0s\u001b[0m 31ms/step - loss: 0.0031\n",
      "Epoch 35/50\n",
      "\u001b[1m15/15\u001b[0m \u001b[32m━━━━━━━━━━━━━━━━━━━━\u001b[0m\u001b[37m\u001b[0m \u001b[1m1s\u001b[0m 34ms/step - loss: 0.0022\n",
      "Epoch 36/50\n",
      "\u001b[1m15/15\u001b[0m \u001b[32m━━━━━━━━━━━━━━━━━━━━\u001b[0m\u001b[37m\u001b[0m \u001b[1m0s\u001b[0m 30ms/step - loss: 0.0044\n",
      "Epoch 37/50\n",
      "\u001b[1m15/15\u001b[0m \u001b[32m━━━━━━━━━━━━━━━━━━━━\u001b[0m\u001b[37m\u001b[0m \u001b[1m0s\u001b[0m 30ms/step - loss: 0.0010    \n",
      "Epoch 38/50\n",
      "\u001b[1m15/15\u001b[0m \u001b[32m━━━━━━━━━━━━━━━━━━━━\u001b[0m\u001b[37m\u001b[0m \u001b[1m0s\u001b[0m 31ms/step - loss: 0.0015\n",
      "Epoch 39/50\n",
      "\u001b[1m15/15\u001b[0m \u001b[32m━━━━━━━━━━━━━━━━━━━━\u001b[0m\u001b[37m\u001b[0m \u001b[1m0s\u001b[0m 30ms/step - loss: 0.0012  \n",
      "Epoch 40/50\n",
      "\u001b[1m15/15\u001b[0m \u001b[32m━━━━━━━━━━━━━━━━━━━━\u001b[0m\u001b[37m\u001b[0m \u001b[1m0s\u001b[0m 30ms/step - loss: 0.0059\n",
      "Epoch 41/50\n",
      "\u001b[1m15/15\u001b[0m \u001b[32m━━━━━━━━━━━━━━━━━━━━\u001b[0m\u001b[37m\u001b[0m \u001b[1m0s\u001b[0m 31ms/step - loss: 9.3256e-04\n",
      "Epoch 42/50\n",
      "\u001b[1m15/15\u001b[0m \u001b[32m━━━━━━━━━━━━━━━━━━━━\u001b[0m\u001b[37m\u001b[0m \u001b[1m0s\u001b[0m 30ms/step - loss: 0.0024\n",
      "Epoch 43/50\n",
      "\u001b[1m15/15\u001b[0m \u001b[32m━━━━━━━━━━━━━━━━━━━━\u001b[0m\u001b[37m\u001b[0m \u001b[1m0s\u001b[0m 30ms/step - loss: 0.0022\n",
      "Epoch 44/50\n",
      "\u001b[1m15/15\u001b[0m \u001b[32m━━━━━━━━━━━━━━━━━━━━\u001b[0m\u001b[37m\u001b[0m \u001b[1m0s\u001b[0m 31ms/step - loss: 0.0022\n",
      "Epoch 45/50\n",
      "\u001b[1m15/15\u001b[0m \u001b[32m━━━━━━━━━━━━━━━━━━━━\u001b[0m\u001b[37m\u001b[0m \u001b[1m0s\u001b[0m 30ms/step - loss: 0.0013\n",
      "Epoch 46/50\n",
      "\u001b[1m15/15\u001b[0m \u001b[32m━━━━━━━━━━━━━━━━━━━━\u001b[0m\u001b[37m\u001b[0m \u001b[1m0s\u001b[0m 30ms/step - loss: 0.0015\n",
      "Epoch 47/50\n",
      "\u001b[1m15/15\u001b[0m \u001b[32m━━━━━━━━━━━━━━━━━━━━\u001b[0m\u001b[37m\u001b[0m \u001b[1m0s\u001b[0m 31ms/step - loss: 0.0067\n",
      "Epoch 48/50\n",
      "\u001b[1m15/15\u001b[0m \u001b[32m━━━━━━━━━━━━━━━━━━━━\u001b[0m\u001b[37m\u001b[0m \u001b[1m1s\u001b[0m 32ms/step - loss: 0.0023\n",
      "Epoch 49/50\n",
      "\u001b[1m15/15\u001b[0m \u001b[32m━━━━━━━━━━━━━━━━━━━━\u001b[0m\u001b[37m\u001b[0m \u001b[1m1s\u001b[0m 38ms/step - loss: 0.0024\n",
      "Epoch 50/50\n",
      "\u001b[1m15/15\u001b[0m \u001b[32m━━━━━━━━━━━━━━━━━━━━\u001b[0m\u001b[37m\u001b[0m \u001b[1m1s\u001b[0m 39ms/step - loss: 0.0037\n"
     ]
    },
    {
     "data": {
      "text/plain": [
       "<keras.src.callbacks.history.History at 0x1c8adc3e110>"
      ]
     },
     "execution_count": 28,
     "metadata": {},
     "output_type": "execute_result"
    }
   ],
   "source": [
    "# fit model\n",
    "model.fit(generator,epochs=50)"
   ]
  },
  {
   "cell_type": "code",
   "execution_count": 29,
   "id": "01c1a950",
   "metadata": {},
   "outputs": [
    {
     "name": "stderr",
     "output_type": "stream",
     "text": [
      "WARNING:absl:You are saving your model as an HDF5 file via `model.save()` or `keras.saving.save_model(model)`. This file format is considered legacy. We recommend using instead the native Keras format, e.g. `model.save('my_model.keras')` or `keras.saving.save_model(model, 'my_model.keras')`. \n"
     ]
    },
    {
     "data": {
      "text/plain": [
       "['regular_scaler.pkl']"
      ]
     },
     "execution_count": 29,
     "metadata": {},
     "output_type": "execute_result"
    }
   ],
   "source": [
    "import joblib\n",
    "from tensorflow.keras.models import save_model\n",
    "\n",
    "# After fitting the model\n",
    "# Save the LSTM model\n",
    "model.save('lstm_regular_rice_price_model.h5')  # Save the model to an .h5 file\n",
    "\n",
    "# Save the scaler\n",
    "joblib.dump(scaler, 'regular_scaler.pkl')  # Save the scaler to a .pkl file"
   ]
  },
  {
   "cell_type": "code",
   "execution_count": 30,
   "id": "ecbd536c",
   "metadata": {},
   "outputs": [
    {
     "data": {
      "text/plain": [
       "[<matplotlib.lines.Line2D at 0x1c8b8cac050>]"
      ]
     },
     "execution_count": 30,
     "metadata": {},
     "output_type": "execute_result"
    },
    {
     "data": {
      "image/png": "[encoded data removed]",
      "text/plain": [
       "<Figure size 640x480 with 1 Axes>"
      ]
     },
     "metadata": {},
     "output_type": "display_data"
    }
   ],
   "source": [
    "loss_per_epoch = model.history.history['loss']\n",
    "plt.plot(range(len(loss_per_epoch)),loss_per_epoch)"
   ]
  },
  {
   "cell_type": "code",
   "execution_count": 31,
   "id": "d8315b5c",
   "metadata": {},
   "outputs": [],
   "source": [
    "last_train_batch = scaled_train[-345:]"
   ]
  },
  {
   "cell_type": "code",
   "execution_count": 32,
   "id": "f44a5c79",
   "metadata": {},
   "outputs": [],
   "source": [
    "current_batch = last_train_batch.reshape((1, n_input, n_features))\n",
    "last_train_batch = last_train_batch.reshape((1, n_input, n_features))"
   ]
  },
  {
   "cell_type": "code",
   "execution_count": 33,
   "id": "50b6ede7",
   "metadata": {},
   "outputs": [
    {
     "name": "stdout",
     "output_type": "stream",
     "text": [
      "\u001b[1m1/1\u001b[0m \u001b[32m━━━━━━━━━━━━━━━━━━━━\u001b[0m\u001b[37m\u001b[0m \u001b[1m0s\u001b[0m 122ms/step\n"
     ]
    },
    {
     "data": {
      "text/plain": [
       "array([[0.76432586]], dtype=float32)"
      ]
     },
     "execution_count": 33,
     "metadata": {},
     "output_type": "execute_result"
    }
   ],
   "source": [
    "model.predict(last_train_batch)"
   ]
  },
  {
   "cell_type": "code",
   "execution_count": 34,
   "id": "e22810c4",
   "metadata": {},
   "outputs": [
    {
     "data": {
      "text/plain": [
       "array([0.76858777, 0.24      ])"
      ]
     },
     "execution_count": 34,
     "metadata": {},
     "output_type": "execute_result"
    }
   ],
   "source": [
    "scaled_test[0]"
   ]
  },
  {
   "cell_type": "code",
   "execution_count": 35,
   "id": "0b3ee22e",
   "metadata": {},
   "outputs": [
    {
     "name": "stdout",
     "output_type": "stream",
     "text": [
      "\u001b[1m1/1\u001b[0m \u001b[32m━━━━━━━━━━━━━━━━━━━━\u001b[0m\u001b[37m\u001b[0m \u001b[1m0s\u001b[0m 23ms/step\n",
      "\u001b[1m1/1\u001b[0m \u001b[32m━━━━━━━━━━━━━━━━━━━━\u001b[0m\u001b[37m\u001b[0m \u001b[1m0s\u001b[0m 23ms/step\n",
      "\u001b[1m1/1\u001b[0m \u001b[32m━━━━━━━━━━━━━━━━━━━━\u001b[0m\u001b[37m\u001b[0m \u001b[1m0s\u001b[0m 23ms/step\n",
      "\u001b[1m1/1\u001b[0m \u001b[32m━━━━━━━━━━━━━━━━━━━━\u001b[0m\u001b[37m\u001b[0m \u001b[1m0s\u001b[0m 23ms/step\n",
      "\u001b[1m1/1\u001b[0m \u001b[32m━━━━━━━━━━━━━━━━━━━━\u001b[0m\u001b[37m\u001b[0m \u001b[1m0s\u001b[0m 30ms/step\n",
      "\u001b[1m1/1\u001b[0m \u001b[32m━━━━━━━━━━━━━━━━━━━━\u001b[0m\u001b[37m\u001b[0m \u001b[1m0s\u001b[0m 25ms/step\n",
      "\u001b[1m1/1\u001b[0m \u001b[32m━━━━━━━━━━━━━━━━━━━━\u001b[0m\u001b[37m\u001b[0m \u001b[1m0s\u001b[0m 25ms/step\n",
      "\u001b[1m1/1\u001b[0m \u001b[32m━━━━━━━━━━━━━━━━━━━━\u001b[0m\u001b[37m\u001b[0m \u001b[1m0s\u001b[0m 23ms/step\n",
      "\u001b[1m1/1\u001b[0m \u001b[32m━━━━━━━━━━━━━━━━━━━━\u001b[0m\u001b[37m\u001b[0m \u001b[1m0s\u001b[0m 25ms/step\n",
      "\u001b[1m1/1\u001b[0m \u001b[32m━━━━━━━━━━━━━━━━━━━━\u001b[0m\u001b[37m\u001b[0m \u001b[1m0s\u001b[0m 26ms/step\n",
      "\u001b[1m1/1\u001b[0m \u001b[32m━━━━━━━━━━━━━━━━━━━━\u001b[0m\u001b[37m\u001b[0m \u001b[1m0s\u001b[0m 24ms/step\n",
      "\u001b[1m1/1\u001b[0m \u001b[32m━━━━━━━━━━━━━━━━━━━━\u001b[0m\u001b[37m\u001b[0m \u001b[1m0s\u001b[0m 30ms/step\n"
     ]
    }
   ],
   "source": [
    "# Generate predictions for test set\n",
    "test_predictions = []\n",
    "for i in range(len(test)):\n",
    "    current_pred = model.predict(current_batch)[0].item()  # Convert to scalar\n",
    "    test_predictions.append(current_pred)\n",
    "    # Append the prediction and actual inflation rate for the next step\n",
    "    new_feature = np.array([[current_pred, scaled_test[i, 1]]])  # Shape (1, 2)\n",
    "    new_feature = np.expand_dims(new_feature, axis=0)  # Shape (1, 1, 2)\n",
    "    current_batch = np.concatenate((current_batch[:, 1:, :], new_feature), axis=1)"
   ]
  },
  {
   "cell_type": "code",
   "execution_count": 36,
   "id": "d86d4ef1",
   "metadata": {},
   "outputs": [
    {
     "data": {
      "text/plain": [
       "[0.7643258571624756,\n",
       " 0.7626165747642517,\n",
       " 0.7576698660850525,\n",
       " 0.7521606683731079,\n",
       " 0.7456429600715637,\n",
       " 0.7393612861633301,\n",
       " 0.7369655966758728,\n",
       " 0.7341031432151794,\n",
       " 0.7302843928337097,\n",
       " 0.7269496321678162,\n",
       " 0.7242519855499268,\n",
       " 0.7245345711708069]"
      ]
     },
     "execution_count": 36,
     "metadata": {},
     "output_type": "execute_result"
    }
   ],
   "source": [
    "test_predictions"
   ]
  },
  {
   "cell_type": "code",
   "execution_count": 37,
   "id": "889c8e05",
   "metadata": {},
   "outputs": [
    {
     "data": {
      "text/html": [
       "<div>\n",
       "<style scoped>\n",
       "    .dataframe tbody tr th:only-of-type {\n",
       "        vertical-align: middle;\n",
       "    }\n",
       "\n",
       "    .dataframe tbody tr th {\n",
       "        vertical-align: top;\n",
       "    }\n",
       "\n",
       "    .dataframe thead th {\n",
       "        text-align: right;\n",
       "    }\n",
       "</style>\n",
       "<table border=\"1\" class=\"dataframe\">\n",
       "  <thead>\n",
       "    <tr style=\"text-align: right;\">\n",
       "      <th></th>\n",
       "      <th>Price / kg</th>\n",
       "      <th>Inflation Rate (%)</th>\n",
       "    </tr>\n",
       "    <tr>\n",
       "      <th>DATE</th>\n",
       "      <th></th>\n",
       "      <th></th>\n",
       "    </tr>\n",
       "  </thead>\n",
       "  <tbody>\n",
       "    <tr>\n",
       "      <th>2020-01-01</th>\n",
       "      <td>43.44</td>\n",
       "      <td>3.0</td>\n",
       "    </tr>\n",
       "    <tr>\n",
       "      <th>2020-02-01</th>\n",
       "      <td>43.04</td>\n",
       "      <td>2.5</td>\n",
       "    </tr>\n",
       "    <tr>\n",
       "      <th>2020-03-01</th>\n",
       "      <td>43.04</td>\n",
       "      <td>2.2</td>\n",
       "    </tr>\n",
       "    <tr>\n",
       "      <th>2020-04-01</th>\n",
       "      <td>43.31</td>\n",
       "      <td>1.8</td>\n",
       "    </tr>\n",
       "    <tr>\n",
       "      <th>2020-05-01</th>\n",
       "      <td>44.12</td>\n",
       "      <td>1.6</td>\n",
       "    </tr>\n",
       "  </tbody>\n",
       "</table>\n",
       "</div>"
      ],
      "text/plain": [
       "            Price / kg  Inflation Rate (%)\n",
       "DATE                                      \n",
       "2020-01-01       43.44                 3.0\n",
       "2020-02-01       43.04                 2.5\n",
       "2020-03-01       43.04                 2.2\n",
       "2020-04-01       43.31                 1.8\n",
       "2020-05-01       44.12                 1.6"
      ]
     },
     "execution_count": 37,
     "metadata": {},
     "output_type": "execute_result"
    }
   ],
   "source": [
    "test.head()"
   ]
  },
  {
   "cell_type": "code",
   "execution_count": 38,
   "id": "c8cf142d",
   "metadata": {},
   "outputs": [],
   "source": [
    "# Inverse transform predictions to original scale\n",
    "true_predictions = scaler.inverse_transform(np.c_[test_predictions, scaled_test[:, 1]])[:, 0]"
   ]
  },
  {
   "cell_type": "code",
   "execution_count": 39,
   "id": "ed125711",
   "metadata": {},
   "outputs": [
    {
     "name": "stderr",
     "output_type": "stream",
     "text": [
      "C:\\Users\\Krystel\\AppData\\Local\\Temp\\ipykernel_4164\\4269337381.py:1: SettingWithCopyWarning: \n",
      "A value is trying to be set on a copy of a slice from a DataFrame.\n",
      "Try using .loc[row_indexer,col_indexer] = value instead\n",
      "\n",
      "See the caveats in the documentation: https://pandas.pydata.org/pandas-docs/stable/user_guide/indexing.html#returning-a-view-versus-a-copy\n",
      "  test['Predictions'] = true_predictions\n"
     ]
    }
   ],
   "source": [
    "test['Predictions'] = true_predictions"
   ]
  },
  {
   "cell_type": "code",
   "execution_count": 40,
   "id": "64527426",
   "metadata": {},
   "outputs": [
    {
     "data": {
      "text/plain": [
       "<Axes: xlabel='DATE'>"
      ]
     },
     "execution_count": 40,
     "metadata": {},
     "output_type": "execute_result"
    },
    {
     "data": {
      "image/png": "[encoded data removed]",
      "text/plain": [
       "<Figure size 1200x600 with 1 Axes>"
      ]
     },
     "metadata": {},
     "output_type": "display_data"
    }
   ],
   "source": [
    "# test[\"Price / kg\"].plot(figsize=(14,5))\n",
    "test.plot(figsize=(12,6))"
   ]
  },
  {
   "cell_type": "code",
   "execution_count": 41,
   "id": "4eeb8008",
   "metadata": {},
   "outputs": [
    {
     "name": "stdout",
     "output_type": "stream",
     "text": [
      "RMSE: 2.1423362328434226\n",
      "MSE: 4.589604534553747\n",
      "MAE: 1.6052133854230248\n"
     ]
    }
   ],
   "source": [
    "from sklearn.metrics import mean_squared_error, mean_absolute_error, r2_score\n",
    "from math import sqrt\n",
    "\n",
    "# Calculate RMSE\n",
    "rmse = sqrt(mean_squared_error(test['Price / kg'], test['Predictions']))\n",
    "print(f'RMSE: {rmse}')\n",
    "\n",
    "# Calculate MSE\n",
    "mse = mean_squared_error(test['Price / kg'], test['Predictions'])\n",
    "print(f'MSE: {mse}')\n",
    "\n",
    "# Calculate MAE\n",
    "mae = mean_absolute_error(test['Price / kg'], test['Predictions'])\n",
    "print(f'MAE: {mae}')"
   ]
  },
  {
   "cell_type": "code",
   "execution_count": 42,
   "id": "ce4d65a3",
   "metadata": {},
   "outputs": [
    {
     "name": "stdout",
     "output_type": "stream",
     "text": [
      "\u001b[1m1/1\u001b[0m \u001b[32m━━━━━━━━━━━━━━━━━━━━\u001b[0m\u001b[37m\u001b[0m \u001b[1m0s\u001b[0m 24ms/step\n",
      "Predicted Price for January 2025: 41.4530195081234\n"
     ]
    }
   ],
   "source": [
    "# Predict future price for the selected month and year\n",
    "future_dates = pd.date_range(start='2025-01-01', periods=1, freq='MS')\n",
    "future_predictions = []\n",
    "for _ in range(len(future_dates)):\n",
    "    current_pred = model.predict(current_batch)[0].item()  # Convert to scalar\n",
    "    future_predictions.append(current_pred)\n",
    "    # Use predicted price and most recent inflation rate\n",
    "    new_feature = np.array([[current_pred, scaled_train[-1, 1]]])  # Shape (1, 2)\n",
    "    new_feature = np.expand_dims(new_feature, axis=0)  # Shape (1, 1, 2)\n",
    "    current_batch = np.concatenate((current_batch[:, 1:, :], new_feature), axis=1)\n",
    "# Inverse transform future predictions\n",
    "actual_future_predictions = scaler.inverse_transform(np.c_[future_predictions, [scaled_train[-1, 1]]])\n",
    "predicted_price = actual_future_predictions[0][0]\n",
    "print(f\"Predicted Price for {future_dates[0].strftime('%B %Y')}: {predicted_price}\")"
   ]
  },
  {
   "cell_type": "code",
   "execution_count": 43,
   "id": "f135e8da",
   "metadata": {},
   "outputs": [
    {
     "name": "stdout",
     "output_type": "stream",
     "text": [
      "\u001b[1m1/1\u001b[0m \u001b[32m━━━━━━━━━━━━━━━━━━━━\u001b[0m\u001b[37m\u001b[0m \u001b[1m0s\u001b[0m 22ms/step\n",
      "\u001b[1m1/1\u001b[0m \u001b[32m━━━━━━━━━━━━━━━━━━━━\u001b[0m\u001b[37m\u001b[0m \u001b[1m0s\u001b[0m 23ms/step\n",
      "\u001b[1m1/1\u001b[0m \u001b[32m━━━━━━━━━━━━━━━━━━━━\u001b[0m\u001b[37m\u001b[0m \u001b[1m0s\u001b[0m 23ms/step\n",
      "\u001b[1m1/1\u001b[0m \u001b[32m━━━━━━━━━━━━━━━━━━━━\u001b[0m\u001b[37m\u001b[0m \u001b[1m0s\u001b[0m 24ms/step\n",
      "\u001b[1m1/1\u001b[0m \u001b[32m━━━━━━━━━━━━━━━━━━━━\u001b[0m\u001b[37m\u001b[0m \u001b[1m0s\u001b[0m 22ms/step\n",
      "\u001b[1m1/1\u001b[0m \u001b[32m━━━━━━━━━━━━━━━━━━━━\u001b[0m\u001b[37m\u001b[0m \u001b[1m0s\u001b[0m 23ms/step\n",
      "\u001b[1m1/1\u001b[0m \u001b[32m━━━━━━━━━━━━━━━━━━━━\u001b[0m\u001b[37m\u001b[0m \u001b[1m0s\u001b[0m 23ms/step\n",
      "\u001b[1m1/1\u001b[0m \u001b[32m━━━━━━━━━━━━━━━━━━━━\u001b[0m\u001b[37m\u001b[0m \u001b[1m0s\u001b[0m 23ms/step\n",
      "\u001b[1m1/1\u001b[0m \u001b[32m━━━━━━━━━━━━━━━━━━━━\u001b[0m\u001b[37m\u001b[0m \u001b[1m0s\u001b[0m 23ms/step\n",
      "\u001b[1m1/1\u001b[0m \u001b[32m━━━━━━━━━━━━━━━━━━━━\u001b[0m\u001b[37m\u001b[0m \u001b[1m0s\u001b[0m 23ms/step\n",
      "\u001b[1m1/1\u001b[0m \u001b[32m━━━━━━━━━━━━━━━━━━━━\u001b[0m\u001b[37m\u001b[0m \u001b[1m0s\u001b[0m 23ms/step\n",
      "\u001b[1m1/1\u001b[0m \u001b[32m━━━━━━━━━━━━━━━━━━━━\u001b[0m\u001b[37m\u001b[0m \u001b[1m0s\u001b[0m 23ms/step\n",
      "\u001b[1m1/1\u001b[0m \u001b[32m━━━━━━━━━━━━━━━━━━━━\u001b[0m\u001b[37m\u001b[0m \u001b[1m0s\u001b[0m 22ms/step\n",
      "\u001b[1m1/1\u001b[0m \u001b[32m━━━━━━━━━━━━━━━━━━━━\u001b[0m\u001b[37m\u001b[0m \u001b[1m0s\u001b[0m 23ms/step\n",
      "\u001b[1m1/1\u001b[0m \u001b[32m━━━━━━━━━━━━━━━━━━━━\u001b[0m\u001b[37m\u001b[0m \u001b[1m0s\u001b[0m 24ms/step\n",
      "\u001b[1m1/1\u001b[0m \u001b[32m━━━━━━━━━━━━━━━━━━━━\u001b[0m\u001b[37m\u001b[0m \u001b[1m0s\u001b[0m 22ms/step\n",
      "\u001b[1m1/1\u001b[0m \u001b[32m━━━━━━━━━━━━━━━━━━━━\u001b[0m\u001b[37m\u001b[0m \u001b[1m0s\u001b[0m 24ms/step\n",
      "\u001b[1m1/1\u001b[0m \u001b[32m━━━━━━━━━━━━━━━━━━━━\u001b[0m\u001b[37m\u001b[0m \u001b[1m0s\u001b[0m 22ms/step\n",
      "\u001b[1m1/1\u001b[0m \u001b[32m━━━━━━━━━━━━━━━━━━━━\u001b[0m\u001b[37m\u001b[0m \u001b[1m0s\u001b[0m 25ms/step\n",
      "\u001b[1m1/1\u001b[0m \u001b[32m━━━━━━━━━━━━━━━━━━━━\u001b[0m\u001b[37m\u001b[0m \u001b[1m0s\u001b[0m 25ms/step\n",
      "\u001b[1m1/1\u001b[0m \u001b[32m━━━━━━━━━━━━━━━━━━━━\u001b[0m\u001b[37m\u001b[0m \u001b[1m0s\u001b[0m 25ms/step\n",
      "\u001b[1m1/1\u001b[0m \u001b[32m━━━━━━━━━━━━━━━━━━━━\u001b[0m\u001b[37m\u001b[0m \u001b[1m0s\u001b[0m 23ms/step\n",
      "\u001b[1m1/1\u001b[0m \u001b[32m━━━━━━━━━━━━━━━━━━━━\u001b[0m\u001b[37m\u001b[0m \u001b[1m0s\u001b[0m 26ms/step\n",
      "\u001b[1m1/1\u001b[0m \u001b[32m━━━━━━━━━━━━━━━━━━━━\u001b[0m\u001b[37m\u001b[0m \u001b[1m0s\u001b[0m 23ms/step\n",
      "\u001b[1m1/1\u001b[0m \u001b[32m━━━━━━━━━━━━━━━━━━━━\u001b[0m\u001b[37m\u001b[0m \u001b[1m0s\u001b[0m 23ms/step\n",
      "\u001b[1m1/1\u001b[0m \u001b[32m━━━━━━━━━━━━━━━━━━━━\u001b[0m\u001b[37m\u001b[0m \u001b[1m0s\u001b[0m 22ms/step\n",
      "\u001b[1m1/1\u001b[0m \u001b[32m━━━━━━━━━━━━━━━━━━━━\u001b[0m\u001b[37m\u001b[0m \u001b[1m0s\u001b[0m 22ms/step\n",
      "\u001b[1m1/1\u001b[0m \u001b[32m━━━━━━━━━━━━━━━━━━━━\u001b[0m\u001b[37m\u001b[0m \u001b[1m0s\u001b[0m 25ms/step\n",
      "\u001b[1m1/1\u001b[0m \u001b[32m━━━━━━━━━━━━━━━━━━━━\u001b[0m\u001b[37m\u001b[0m \u001b[1m0s\u001b[0m 22ms/step\n",
      "\u001b[1m1/1\u001b[0m \u001b[32m━━━━━━━━━━━━━━━━━━━━\u001b[0m\u001b[37m\u001b[0m \u001b[1m0s\u001b[0m 22ms/step\n",
      "\u001b[1m1/1\u001b[0m \u001b[32m━━━━━━━━━━━━━━━━━━━━\u001b[0m\u001b[37m\u001b[0m \u001b[1m0s\u001b[0m 22ms/step\n",
      "\u001b[1m1/1\u001b[0m \u001b[32m━━━━━━━━━━━━━━━━━━━━\u001b[0m\u001b[37m\u001b[0m \u001b[1m0s\u001b[0m 22ms/step\n",
      "\u001b[1m1/1\u001b[0m \u001b[32m━━━━━━━━━━━━━━━━━━━━\u001b[0m\u001b[37m\u001b[0m \u001b[1m0s\u001b[0m 23ms/step\n",
      "\u001b[1m1/1\u001b[0m \u001b[32m━━━━━━━━━━━━━━━━━━━━\u001b[0m\u001b[37m\u001b[0m \u001b[1m0s\u001b[0m 25ms/step\n",
      "\u001b[1m1/1\u001b[0m \u001b[32m━━━━━━━━━━━━━━━━━━━━\u001b[0m\u001b[37m\u001b[0m \u001b[1m0s\u001b[0m 24ms/step\n",
      "\u001b[1m1/1\u001b[0m \u001b[32m━━━━━━━━━━━━━━━━━━━━\u001b[0m\u001b[37m\u001b[0m \u001b[1m0s\u001b[0m 26ms/step\n",
      "\u001b[1m1/1\u001b[0m \u001b[32m━━━━━━━━━━━━━━━━━━━━\u001b[0m\u001b[37m\u001b[0m \u001b[1m0s\u001b[0m 22ms/step\n",
      "\u001b[1m1/1\u001b[0m \u001b[32m━━━━━━━━━━━━━━━━━━━━\u001b[0m\u001b[37m\u001b[0m \u001b[1m0s\u001b[0m 24ms/step\n",
      "\u001b[1m1/1\u001b[0m \u001b[32m━━━━━━━━━━━━━━━━━━━━\u001b[0m\u001b[37m\u001b[0m \u001b[1m0s\u001b[0m 21ms/step\n",
      "\u001b[1m1/1\u001b[0m \u001b[32m━━━━━━━━━━━━━━━━━━━━\u001b[0m\u001b[37m\u001b[0m \u001b[1m0s\u001b[0m 23ms/step\n",
      "\u001b[1m1/1\u001b[0m \u001b[32m━━━━━━━━━━━━━━━━━━━━\u001b[0m\u001b[37m\u001b[0m \u001b[1m0s\u001b[0m 23ms/step\n",
      "\u001b[1m1/1\u001b[0m \u001b[32m━━━━━━━━━━━━━━━━━━━━\u001b[0m\u001b[37m\u001b[0m \u001b[1m0s\u001b[0m 23ms/step\n",
      "\u001b[1m1/1\u001b[0m \u001b[32m━━━━━━━━━━━━━━━━━━━━\u001b[0m\u001b[37m\u001b[0m \u001b[1m0s\u001b[0m 22ms/step\n",
      "\u001b[1m1/1\u001b[0m \u001b[32m━━━━━━━━━━━━━━━━━━━━\u001b[0m\u001b[37m\u001b[0m \u001b[1m0s\u001b[0m 22ms/step\n",
      "\u001b[1m1/1\u001b[0m \u001b[32m━━━━━━━━━━━━━━━━━━━━\u001b[0m\u001b[37m\u001b[0m \u001b[1m0s\u001b[0m 22ms/step\n",
      "\u001b[1m1/1\u001b[0m \u001b[32m━━━━━━━━━━━━━━━━━━━━\u001b[0m\u001b[37m\u001b[0m \u001b[1m0s\u001b[0m 22ms/step\n",
      "\u001b[1m1/1\u001b[0m \u001b[32m━━━━━━━━━━━━━━━━━━━━\u001b[0m\u001b[37m\u001b[0m \u001b[1m0s\u001b[0m 21ms/step\n",
      "\u001b[1m1/1\u001b[0m \u001b[32m━━━━━━━━━━━━━━━━━━━━\u001b[0m\u001b[37m\u001b[0m \u001b[1m0s\u001b[0m 23ms/step\n",
      "\u001b[1m1/1\u001b[0m \u001b[32m━━━━━━━━━━━━━━━━━━━━\u001b[0m\u001b[37m\u001b[0m \u001b[1m0s\u001b[0m 24ms/step\n",
      "\u001b[1m1/1\u001b[0m \u001b[32m━━━━━━━━━━━━━━━━━━━━\u001b[0m\u001b[37m\u001b[0m \u001b[1m0s\u001b[0m 21ms/step\n",
      "\u001b[1m1/1\u001b[0m \u001b[32m━━━━━━━━━━━━━━━━━━━━\u001b[0m\u001b[37m\u001b[0m \u001b[1m0s\u001b[0m 21ms/step\n",
      "\u001b[1m1/1\u001b[0m \u001b[32m━━━━━━━━━━━━━━━━━━━━\u001b[0m\u001b[37m\u001b[0m \u001b[1m0s\u001b[0m 23ms/step\n",
      "\u001b[1m1/1\u001b[0m \u001b[32m━━━━━━━━━━━━━━━━━━━━\u001b[0m\u001b[37m\u001b[0m \u001b[1m0s\u001b[0m 23ms/step\n",
      "\u001b[1m1/1\u001b[0m \u001b[32m━━━━━━━━━━━━━━━━━━━━\u001b[0m\u001b[37m\u001b[0m \u001b[1m0s\u001b[0m 22ms/step\n",
      "\u001b[1m1/1\u001b[0m \u001b[32m━━━━━━━━━━━━━━━━━━━━\u001b[0m\u001b[37m\u001b[0m \u001b[1m0s\u001b[0m 24ms/step\n",
      "\u001b[1m1/1\u001b[0m \u001b[32m━━━━━━━━━━━━━━━━━━━━\u001b[0m\u001b[37m\u001b[0m \u001b[1m0s\u001b[0m 23ms/step\n",
      "\u001b[1m1/1\u001b[0m \u001b[32m━━━━━━━━━━━━━━━━━━━━\u001b[0m\u001b[37m\u001b[0m \u001b[1m0s\u001b[0m 23ms/step\n",
      "\u001b[1m1/1\u001b[0m \u001b[32m━━━━━━━━━━━━━━━━━━━━\u001b[0m\u001b[37m\u001b[0m \u001b[1m0s\u001b[0m 23ms/step\n",
      "\u001b[1m1/1\u001b[0m \u001b[32m━━━━━━━━━━━━━━━━━━━━\u001b[0m\u001b[37m\u001b[0m \u001b[1m0s\u001b[0m 23ms/step\n",
      "\u001b[1m1/1\u001b[0m \u001b[32m━━━━━━━━━━━━━━━━━━━━\u001b[0m\u001b[37m\u001b[0m \u001b[1m0s\u001b[0m 22ms/step\n",
      "\u001b[1m1/1\u001b[0m \u001b[32m━━━━━━━━━━━━━━━━━━━━\u001b[0m\u001b[37m\u001b[0m \u001b[1m0s\u001b[0m 23ms/step\n",
      "\u001b[1m1/1\u001b[0m \u001b[32m━━━━━━━━━━━━━━━━━━━━\u001b[0m\u001b[37m\u001b[0m \u001b[1m0s\u001b[0m 25ms/step\n",
      "\u001b[1m1/1\u001b[0m \u001b[32m━━━━━━━━━━━━━━━━━━━━\u001b[0m\u001b[37m\u001b[0m \u001b[1m0s\u001b[0m 22ms/step\n",
      "\u001b[1m1/1\u001b[0m \u001b[32m━━━━━━━━━━━━━━━━━━━━\u001b[0m\u001b[37m\u001b[0m \u001b[1m0s\u001b[0m 24ms/step\n",
      "\u001b[1m1/1\u001b[0m \u001b[32m━━━━━━━━━━━━━━━━━━━━\u001b[0m\u001b[37m\u001b[0m \u001b[1m0s\u001b[0m 22ms/step\n",
      "\u001b[1m1/1\u001b[0m \u001b[32m━━━━━━━━━━━━━━━━━━━━\u001b[0m\u001b[37m\u001b[0m \u001b[1m0s\u001b[0m 24ms/step\n",
      "\u001b[1m1/1\u001b[0m \u001b[32m━━━━━━━━━━━━━━━━━━━━\u001b[0m\u001b[37m\u001b[0m \u001b[1m0s\u001b[0m 21ms/step\n",
      "\u001b[1m1/1\u001b[0m \u001b[32m━━━━━━━━━━━━━━━━━━━━\u001b[0m\u001b[37m\u001b[0m \u001b[1m0s\u001b[0m 21ms/step\n",
      "\u001b[1m1/1\u001b[0m \u001b[32m━━━━━━━━━━━━━━━━━━━━\u001b[0m\u001b[37m\u001b[0m \u001b[1m0s\u001b[0m 23ms/step\n",
      "\u001b[1m1/1\u001b[0m \u001b[32m━━━━━━━━━━━━━━━━━━━━\u001b[0m\u001b[37m\u001b[0m \u001b[1m0s\u001b[0m 22ms/step\n",
      "\u001b[1m1/1\u001b[0m \u001b[32m━━━━━━━━━━━━━━━━━━━━\u001b[0m\u001b[37m\u001b[0m \u001b[1m0s\u001b[0m 23ms/step\n",
      "\u001b[1m1/1\u001b[0m \u001b[32m━━━━━━━━━━━━━━━━━━━━\u001b[0m\u001b[37m\u001b[0m \u001b[1m0s\u001b[0m 25ms/step\n",
      "            Original Price  Predicted Price\n",
      "Date                                       \n",
      "2015-01-01           44.00        43.246253\n",
      "2015-02-01           42.00        43.048467\n",
      "2015-03-01           42.38        42.858855\n",
      "2015-04-01           42.38        42.669748\n",
      "2015-05-01           43.38        42.484829\n",
      "...                    ...              ...\n",
      "2020-08-01           43.85        39.675873\n",
      "2020-09-01           42.36        39.673453\n",
      "2020-10-01           40.74        39.671209\n",
      "2020-11-01           36.69        39.669112\n",
      "2020-12-01           37.91        39.667153\n",
      "\n",
      "[72 rows x 2 columns]\n"
     ]
    }
   ],
   "source": [
    "import pandas as pd\n",
    "import numpy as np\n",
    "\n",
    "# Predict prices from 2015 to 2020\n",
    "start_date = '2015-01-01'\n",
    "end_date = '2020-12-01'\n",
    "future_dates = pd.date_range(start=start_date, end=end_date, freq='MS')  # Monthly start\n",
    "future_predictions = []\n",
    "\n",
    "# Initialize the batch (assuming current_batch is correctly defined)\n",
    "current_batch = scaled_train[-n_input:].reshape(1, n_input, n_features)\n",
    "\n",
    "for _ in range(len(future_dates)):\n",
    "    # Predict the next price\n",
    "    current_pred = model.predict(current_batch)[0].item()  # Convert to scalar\n",
    "    future_predictions.append(current_pred)\n",
    "    \n",
    "    # Create new feature using predicted price and most recent inflation rate\n",
    "    new_feature = np.array([[current_pred, scaled_train[-1, 1]]])  # Shape (1, 2)\n",
    "    new_feature = np.expand_dims(new_feature, axis=0)  # Shape (1, 1, 2)\n",
    "    \n",
    "    # Update the current batch with the new prediction\n",
    "    current_batch = np.concatenate((current_batch[:, 1:, :], new_feature), axis=1)\n",
    "\n",
    "# Inverse transform predictions\n",
    "scaled_future_predictions = np.array(future_predictions).reshape(-1, 1)  # Shape (num_predictions, 1)\n",
    "dummy_inflation = np.tile(scaled_train[-1, 1], (len(future_predictions), 1))  # Repeat last inflation value\n",
    "inverse_transformed = scaler.inverse_transform(np.hstack((scaled_future_predictions, dummy_inflation)))\n",
    "\n",
    "# Extract predicted prices\n",
    "predicted_prices = inverse_transformed[:, 0]\n",
    "\n",
    "# Assume original_prices contains actual data from 2015 to 2020 for comparison\n",
    "original_prices = df.loc['2015-01-01':'2020-12-01', 'Price / kg'].values\n",
    "\n",
    "# Create a DataFrame for comparison\n",
    "comparison_df = pd.DataFrame({\n",
    "    'Date': future_dates,\n",
    "    'Original Price': original_prices,\n",
    "    'Predicted Price': predicted_prices\n",
    "}).set_index('Date')\n",
    "\n",
    "# Display the comparison\n",
    "print(comparison_df)"
   ]
  },
  {
   "cell_type": "code",
   "execution_count": null,
   "id": "86568c0a",
   "metadata": {},
   "outputs": [],
   "source": []
  }
 ],
 "metadata": {
  "kernelspec": {
   "display_name": "Python 3 (ipykernel)",
   "language": "python",
   "name": "python3"
  },
  "language_info": {
   "codemirror_mode": {
    "name": "ipython",
    "version": 3
   },
   "file_extension": ".py",
   "mimetype": "text/x-python",
   "name": "python",
   "nbconvert_exporter": "python",
   "pygments_lexer": "ipython3",
   "version": "3.11.4"
  }
 },
 "nbformat": 4,
 "nbformat_minor": 5
}
